{
 "cells": [
  {
   "cell_type": "markdown",
   "metadata": {},
   "source": [
    "\n",
    "# WeRateDogs Project\n",
    "\n",
    "## Table of Contents\n",
    "<ul>\n",
    "<li><a href=\"#intro\">Introduction</a></li>\n",
    "<li><a href=\"#Gathering\">Gather</a></li>\n",
    "<li><a href=\"#Assessing\">Assess</a></li>\n",
    "<li><a href=\"#Cleaning\">Clean</a></li>\n",
    "<li><a href=\"#Analyze\">Analyze</a></li>\n",
    "</ul>"
   ]
  },
  {
   "cell_type": "markdown",
   "metadata": {},
   "source": [
    "## Gather  \n",
    "- Online data (Twitter and Udacity server)\n",
    "- Locally stored files(csv file)\n",
    "    "
   ]
  },
  {
   "cell_type": "code",
   "execution_count": 635,
   "metadata": {},
   "outputs": [],
   "source": [
    "import pandas as pd\n",
    "import json\n",
    "import csv\n",
    "import re\n",
    "import tweepy\n",
    "from tweepy import OAuthHandler\n",
    "import time\n",
    "from urllib import request\n",
    "import matplotlib "
   ]
  },
  {
   "cell_type": "code",
   "execution_count": 636,
   "metadata": {},
   "outputs": [],
   "source": [
    "#download image prediction file in url programmatically\n",
    "url = 'https://d17h27t6h515a5.cloudfront.net/topher/2017/August/599fd2ad_image-predictions/image-predictions.tsv'\n",
    " \n",
    "def download_txturl(txturl):\n",
    "    response = request.urlopen(txturl)\n",
    "    txt = response.read()\n",
    "    txtstr = str(txt)\n",
    "    lines = txtstr.split('\\\\n')\n",
    "    dest = r'image_predictions.tsv'\n",
    "    op = open(dest, 'w')\n",
    "    for line in lines:\n",
    "        op.write(line + '\\n')\n",
    "    op.close()\n",
    "\n",
    "download_txturl(url)\n"
   ]
  },
  {
   "cell_type": "code",
   "execution_count": 637,
   "metadata": {},
   "outputs": [],
   "source": [
    "consumer_key = ''\n",
    "consumer_secret = ''\n",
    "access_token = ''\n",
    "access_token_secret = ''\n",
    "\n",
    "\n",
    "# search_favorites(consumer_key, consumer_secret, access_token, access_token_secret):\n",
    "#create authentication for accessing twitter\n",
    "auth = OAuthHandler(consumer_key, consumer_secret)\n",
    "auth.set_access_token(access_token, access_token_secret)\n",
    "\n",
    "#initialize Tweepy API\n",
    "api = tweepy.API(auth, wait_on_rate_limit =True, wait_on_rate_limit_notify = True)\n",
    "tweet_ids = df_archive.tweet_id\n"
   ]
  },
  {
   "cell_type": "code",
   "execution_count": 638,
   "metadata": {},
   "outputs": [
    {
     "name": "stderr",
     "output_type": "stream",
     "text": [
      "Rate limit reached. Sleeping for: 591\n",
      "Rate limit reached. Sleeping for: 600\n"
     ]
    }
   ],
   "source": [
    "count = 0\n",
    "fails_dict = {}\n",
    "#save each tweet's returned JSON as a new line in a .txt file\n",
    "with open('tweet_json.txt', 'w') as outfile:\n",
    "    \n",
    "    #loop through each tweet id filtered by the given archive file and write to outfile\n",
    "    for tweet_id in tweet_ids:\n",
    "        count += 1        \n",
    "        try:\n",
    "            tweet = api.get_status(tweet_id, tweet_mode='extended')\n",
    "            json.dump(tweet._json, outfile)\n",
    "            outfile.write('\\n')\n",
    "            \n",
    "        except tweepy.TweepError as e:\n",
    "            fails_dict[tweet_id] = e\n",
    "            pass"
   ]
  },
  {
   "cell_type": "code",
   "execution_count": null,
   "metadata": {},
   "outputs": [],
   "source": []
  },
  {
   "cell_type": "code",
   "execution_count": 639,
   "metadata": {},
   "outputs": [],
   "source": [
    "df_new = pd.DataFrame(columns=['tweet_id', 'text','retweet_count', 'favorite_count'])\n",
    "with open('tweet_json.txt') as f:\n",
    "    for line in f:\n",
    "        status  = json.loads(line)\n",
    "        tweet_id = status['id_str']\n",
    "        text = status['full_text']\n",
    "        retweet_count = status['retweet_count']\n",
    "        favorite_count = status['favorite_count']\n",
    "        df_new = df_new.append(pd.DataFrame([[tweet_id, text, retweet_count, favorite_count]],\n",
    "                                        columns=['tweet_id', 'text', 'retweet_count', 'favorite_count']))\n",
    "df_new = df_new.reset_index(drop=True)"
   ]
  },
  {
   "cell_type": "code",
   "execution_count": 641,
   "metadata": {},
   "outputs": [],
   "source": [
    "df_archive = pd.read_csv('twitter-archive-enhanced-2.csv')\n",
    "df_image = pd.read_csv('image-predictions-3.tsv',  delimiter='\\t')"
   ]
  },
  {
   "cell_type": "markdown",
   "metadata": {},
   "source": [
    "## Assess\n",
    "- All tables were uploaded to google sheets and visually assessed. \n",
    "- Programmatic functions were also used to better understand the data. Problems with quality and tidiness that were identified through this assessment can be seen below. "
   ]
  },
  {
   "cell_type": "code",
   "execution_count": null,
   "metadata": {},
   "outputs": [],
   "source": [
    "df_new.head()\n",
    "df_new.shape"
   ]
  },
  {
   "cell_type": "code",
   "execution_count": 12,
   "metadata": {},
   "outputs": [
    {
     "data": {
      "text/html": [
       "<div>\n",
       "<style scoped>\n",
       "    .dataframe tbody tr th:only-of-type {\n",
       "        vertical-align: middle;\n",
       "    }\n",
       "\n",
       "    .dataframe tbody tr th {\n",
       "        vertical-align: top;\n",
       "    }\n",
       "\n",
       "    .dataframe thead th {\n",
       "        text-align: right;\n",
       "    }\n",
       "</style>\n",
       "<table border=\"1\" class=\"dataframe\">\n",
       "  <thead>\n",
       "    <tr style=\"text-align: right;\">\n",
       "      <th></th>\n",
       "      <th>tweet_id</th>\n",
       "      <th>in_reply_to_status_id</th>\n",
       "      <th>in_reply_to_user_id</th>\n",
       "      <th>timestamp</th>\n",
       "      <th>source</th>\n",
       "      <th>text</th>\n",
       "      <th>retweeted_status_id</th>\n",
       "      <th>retweeted_status_user_id</th>\n",
       "      <th>retweeted_status_timestamp</th>\n",
       "      <th>expanded_urls</th>\n",
       "      <th>rating_numerator</th>\n",
       "      <th>rating_denominator</th>\n",
       "      <th>name</th>\n",
       "      <th>doggo</th>\n",
       "      <th>floofer</th>\n",
       "      <th>pupper</th>\n",
       "      <th>puppo</th>\n",
       "    </tr>\n",
       "  </thead>\n",
       "  <tbody>\n",
       "    <tr>\n",
       "      <th>2351</th>\n",
       "      <td>666049248165822465</td>\n",
       "      <td>NaN</td>\n",
       "      <td>NaN</td>\n",
       "      <td>2015-11-16 00:24:50 +0000</td>\n",
       "      <td>&lt;a href=\"http://twitter.com/download/iphone\" r...</td>\n",
       "      <td>Here we have a 1949 1st generation vulpix. Enj...</td>\n",
       "      <td>NaN</td>\n",
       "      <td>NaN</td>\n",
       "      <td>NaN</td>\n",
       "      <td>https://twitter.com/dog_rates/status/666049248...</td>\n",
       "      <td>5</td>\n",
       "      <td>10</td>\n",
       "      <td>None</td>\n",
       "      <td>None</td>\n",
       "      <td>None</td>\n",
       "      <td>None</td>\n",
       "      <td>None</td>\n",
       "    </tr>\n",
       "    <tr>\n",
       "      <th>2352</th>\n",
       "      <td>666044226329800704</td>\n",
       "      <td>NaN</td>\n",
       "      <td>NaN</td>\n",
       "      <td>2015-11-16 00:04:52 +0000</td>\n",
       "      <td>&lt;a href=\"http://twitter.com/download/iphone\" r...</td>\n",
       "      <td>This is a purebred Piers Morgan. Loves to Netf...</td>\n",
       "      <td>NaN</td>\n",
       "      <td>NaN</td>\n",
       "      <td>NaN</td>\n",
       "      <td>https://twitter.com/dog_rates/status/666044226...</td>\n",
       "      <td>6</td>\n",
       "      <td>10</td>\n",
       "      <td>a</td>\n",
       "      <td>None</td>\n",
       "      <td>None</td>\n",
       "      <td>None</td>\n",
       "      <td>None</td>\n",
       "    </tr>\n",
       "    <tr>\n",
       "      <th>2353</th>\n",
       "      <td>666033412701032449</td>\n",
       "      <td>NaN</td>\n",
       "      <td>NaN</td>\n",
       "      <td>2015-11-15 23:21:54 +0000</td>\n",
       "      <td>&lt;a href=\"http://twitter.com/download/iphone\" r...</td>\n",
       "      <td>Here is a very happy pup. Big fan of well-main...</td>\n",
       "      <td>NaN</td>\n",
       "      <td>NaN</td>\n",
       "      <td>NaN</td>\n",
       "      <td>https://twitter.com/dog_rates/status/666033412...</td>\n",
       "      <td>9</td>\n",
       "      <td>10</td>\n",
       "      <td>a</td>\n",
       "      <td>None</td>\n",
       "      <td>None</td>\n",
       "      <td>None</td>\n",
       "      <td>None</td>\n",
       "    </tr>\n",
       "    <tr>\n",
       "      <th>2354</th>\n",
       "      <td>666029285002620928</td>\n",
       "      <td>NaN</td>\n",
       "      <td>NaN</td>\n",
       "      <td>2015-11-15 23:05:30 +0000</td>\n",
       "      <td>&lt;a href=\"http://twitter.com/download/iphone\" r...</td>\n",
       "      <td>This is a western brown Mitsubishi terrier. Up...</td>\n",
       "      <td>NaN</td>\n",
       "      <td>NaN</td>\n",
       "      <td>NaN</td>\n",
       "      <td>https://twitter.com/dog_rates/status/666029285...</td>\n",
       "      <td>7</td>\n",
       "      <td>10</td>\n",
       "      <td>a</td>\n",
       "      <td>None</td>\n",
       "      <td>None</td>\n",
       "      <td>None</td>\n",
       "      <td>None</td>\n",
       "    </tr>\n",
       "    <tr>\n",
       "      <th>2355</th>\n",
       "      <td>666020888022790149</td>\n",
       "      <td>NaN</td>\n",
       "      <td>NaN</td>\n",
       "      <td>2015-11-15 22:32:08 +0000</td>\n",
       "      <td>&lt;a href=\"http://twitter.com/download/iphone\" r...</td>\n",
       "      <td>Here we have a Japanese Irish Setter. Lost eye...</td>\n",
       "      <td>NaN</td>\n",
       "      <td>NaN</td>\n",
       "      <td>NaN</td>\n",
       "      <td>https://twitter.com/dog_rates/status/666020888...</td>\n",
       "      <td>8</td>\n",
       "      <td>10</td>\n",
       "      <td>None</td>\n",
       "      <td>None</td>\n",
       "      <td>None</td>\n",
       "      <td>None</td>\n",
       "      <td>None</td>\n",
       "    </tr>\n",
       "  </tbody>\n",
       "</table>\n",
       "</div>"
      ],
      "text/plain": [
       "                tweet_id  in_reply_to_status_id  in_reply_to_user_id  \\\n",
       "2351  666049248165822465                    NaN                  NaN   \n",
       "2352  666044226329800704                    NaN                  NaN   \n",
       "2353  666033412701032449                    NaN                  NaN   \n",
       "2354  666029285002620928                    NaN                  NaN   \n",
       "2355  666020888022790149                    NaN                  NaN   \n",
       "\n",
       "                      timestamp  \\\n",
       "2351  2015-11-16 00:24:50 +0000   \n",
       "2352  2015-11-16 00:04:52 +0000   \n",
       "2353  2015-11-15 23:21:54 +0000   \n",
       "2354  2015-11-15 23:05:30 +0000   \n",
       "2355  2015-11-15 22:32:08 +0000   \n",
       "\n",
       "                                                 source  \\\n",
       "2351  <a href=\"http://twitter.com/download/iphone\" r...   \n",
       "2352  <a href=\"http://twitter.com/download/iphone\" r...   \n",
       "2353  <a href=\"http://twitter.com/download/iphone\" r...   \n",
       "2354  <a href=\"http://twitter.com/download/iphone\" r...   \n",
       "2355  <a href=\"http://twitter.com/download/iphone\" r...   \n",
       "\n",
       "                                                   text  retweeted_status_id  \\\n",
       "2351  Here we have a 1949 1st generation vulpix. Enj...                  NaN   \n",
       "2352  This is a purebred Piers Morgan. Loves to Netf...                  NaN   \n",
       "2353  Here is a very happy pup. Big fan of well-main...                  NaN   \n",
       "2354  This is a western brown Mitsubishi terrier. Up...                  NaN   \n",
       "2355  Here we have a Japanese Irish Setter. Lost eye...                  NaN   \n",
       "\n",
       "      retweeted_status_user_id retweeted_status_timestamp  \\\n",
       "2351                       NaN                        NaN   \n",
       "2352                       NaN                        NaN   \n",
       "2353                       NaN                        NaN   \n",
       "2354                       NaN                        NaN   \n",
       "2355                       NaN                        NaN   \n",
       "\n",
       "                                          expanded_urls  rating_numerator  \\\n",
       "2351  https://twitter.com/dog_rates/status/666049248...                 5   \n",
       "2352  https://twitter.com/dog_rates/status/666044226...                 6   \n",
       "2353  https://twitter.com/dog_rates/status/666033412...                 9   \n",
       "2354  https://twitter.com/dog_rates/status/666029285...                 7   \n",
       "2355  https://twitter.com/dog_rates/status/666020888...                 8   \n",
       "\n",
       "      rating_denominator  name doggo floofer pupper puppo  \n",
       "2351                  10  None  None    None   None  None  \n",
       "2352                  10     a  None    None   None  None  \n",
       "2353                  10     a  None    None   None  None  \n",
       "2354                  10     a  None    None   None  None  \n",
       "2355                  10  None  None    None   None  None  "
      ]
     },
     "execution_count": 12,
     "metadata": {},
     "output_type": "execute_result"
    }
   ],
   "source": [
    "df_archive.head()\n",
    "df_archive.tail()"
   ]
  },
  {
   "cell_type": "code",
   "execution_count": 764,
   "metadata": {},
   "outputs": [
    {
     "name": "stdout",
     "output_type": "stream",
     "text": [
      "<class 'pandas.core.frame.DataFrame'>\n",
      "RangeIndex: 2356 entries, 0 to 2355\n",
      "Data columns (total 17 columns):\n",
      "tweet_id                      2356 non-null int64\n",
      "in_reply_to_status_id         78 non-null float64\n",
      "in_reply_to_user_id           78 non-null float64\n",
      "timestamp                     2356 non-null object\n",
      "source                        2356 non-null object\n",
      "text                          2356 non-null object\n",
      "retweeted_status_id           181 non-null float64\n",
      "retweeted_status_user_id      181 non-null float64\n",
      "retweeted_status_timestamp    181 non-null object\n",
      "expanded_urls                 2297 non-null object\n",
      "rating_numerator              2356 non-null int64\n",
      "rating_denominator            2356 non-null int64\n",
      "name                          2356 non-null object\n",
      "doggo                         2356 non-null object\n",
      "floofer                       2356 non-null object\n",
      "pupper                        2356 non-null object\n",
      "puppo                         2356 non-null object\n",
      "dtypes: float64(4), int64(3), object(10)\n",
      "memory usage: 313.0+ KB\n"
     ]
    }
   ],
   "source": [
    "df_archive.info()"
   ]
  },
  {
   "cell_type": "code",
   "execution_count": 6,
   "metadata": {},
   "outputs": [
    {
     "data": {
      "text/plain": [
       "tweet_id                      False\n",
       "in_reply_to_status_id          True\n",
       "in_reply_to_user_id            True\n",
       "timestamp                     False\n",
       "source                        False\n",
       "text                          False\n",
       "retweeted_status_id            True\n",
       "retweeted_status_user_id       True\n",
       "retweeted_status_timestamp     True\n",
       "expanded_urls                  True\n",
       "rating_numerator              False\n",
       "rating_denominator            False\n",
       "name                          False\n",
       "doggo                         False\n",
       "floofer                       False\n",
       "pupper                        False\n",
       "puppo                         False\n",
       "dtype: bool"
      ]
     },
     "execution_count": 6,
     "metadata": {},
     "output_type": "execute_result"
    }
   ],
   "source": [
    "df_archive.isna().any()"
   ]
  },
  {
   "cell_type": "code",
   "execution_count": 8,
   "metadata": {},
   "outputs": [
    {
     "data": {
      "text/plain": [
       "False"
      ]
     },
     "execution_count": 8,
     "metadata": {},
     "output_type": "execute_result"
    }
   ],
   "source": [
    "df_archive.tweet_id.duplicated().any()"
   ]
  },
  {
   "cell_type": "code",
   "execution_count": 14,
   "metadata": {},
   "outputs": [
    {
     "data": {
      "text/plain": [
       "None        745\n",
       "a            55\n",
       "Charlie      12\n",
       "Cooper       11\n",
       "Oliver       11\n",
       "Lucy         11\n",
       "Penny        10\n",
       "Lola         10\n",
       "Tucker       10\n",
       "Winston       9\n",
       "Bo            9\n",
       "the           8\n",
       "Sadie         8\n",
       "Daisy         7\n",
       "Bailey        7\n",
       "Buddy         7\n",
       "Toby          7\n",
       "an            7\n",
       "Jax           6\n",
       "Rusty         6\n",
       "Stanley       6\n",
       "Bella         6\n",
       "Scout         6\n",
       "Oscar         6\n",
       "Jack          6\n",
       "Koda          6\n",
       "Leo           6\n",
       "Milo          6\n",
       "Dave          6\n",
       "Alfie         5\n",
       "           ... \n",
       "Traviss       1\n",
       "Molly         1\n",
       "Florence      1\n",
       "Carbon        1\n",
       "Willie        1\n",
       "Karl          1\n",
       "Lupe          1\n",
       "Trigger       1\n",
       "Kaiya         1\n",
       "Pippin        1\n",
       "O             1\n",
       "Jeffri        1\n",
       "Comet         1\n",
       "Swagger       1\n",
       "Sobe          1\n",
       "Sky           1\n",
       "Puff          1\n",
       "Edd           1\n",
       "Ferg          1\n",
       "Bobby         1\n",
       "Linus         1\n",
       "my            1\n",
       "Poppy         1\n",
       "Tessa         1\n",
       "Zooey         1\n",
       "Maks          1\n",
       "Jeremy        1\n",
       "Herb          1\n",
       "Sully         1\n",
       "Clybe         1\n",
       "Name: name, Length: 957, dtype: int64"
      ]
     },
     "execution_count": 14,
     "metadata": {},
     "output_type": "execute_result"
    }
   ],
   "source": [
    "df_archive.name.value_counts()"
   ]
  },
  {
   "cell_type": "code",
   "execution_count": 16,
   "metadata": {},
   "outputs": [
    {
     "data": {
      "text/plain": [
       "12      558\n",
       "11      464\n",
       "10      461\n",
       "13      351\n",
       "9       158\n",
       "8       102\n",
       "7        55\n",
       "14       54\n",
       "5        37\n",
       "6        32\n",
       "3        19\n",
       "4        17\n",
       "1         9\n",
       "2         9\n",
       "420       2\n",
       "0         2\n",
       "15        2\n",
       "75        2\n",
       "80        1\n",
       "20        1\n",
       "24        1\n",
       "26        1\n",
       "44        1\n",
       "50        1\n",
       "60        1\n",
       "165       1\n",
       "84        1\n",
       "88        1\n",
       "144       1\n",
       "182       1\n",
       "143       1\n",
       "666       1\n",
       "960       1\n",
       "1776      1\n",
       "17        1\n",
       "27        1\n",
       "45        1\n",
       "99        1\n",
       "121       1\n",
       "204       1\n",
       "Name: rating_numerator, dtype: int64"
      ]
     },
     "execution_count": 16,
     "metadata": {},
     "output_type": "execute_result"
    }
   ],
   "source": [
    "df_archive.rating_numerator.value_counts()"
   ]
  },
  {
   "cell_type": "code",
   "execution_count": 9,
   "metadata": {},
   "outputs": [
    {
     "data": {
      "text/plain": [
       "(2356, 17)"
      ]
     },
     "execution_count": 9,
     "metadata": {},
     "output_type": "execute_result"
    }
   ],
   "source": [
    "df_archive.shape"
   ]
  },
  {
   "cell_type": "code",
   "execution_count": 11,
   "metadata": {},
   "outputs": [
    {
     "data": {
      "text/html": [
       "<div>\n",
       "<style scoped>\n",
       "    .dataframe tbody tr th:only-of-type {\n",
       "        vertical-align: middle;\n",
       "    }\n",
       "\n",
       "    .dataframe tbody tr th {\n",
       "        vertical-align: top;\n",
       "    }\n",
       "\n",
       "    .dataframe thead th {\n",
       "        text-align: right;\n",
       "    }\n",
       "</style>\n",
       "<table border=\"1\" class=\"dataframe\">\n",
       "  <thead>\n",
       "    <tr style=\"text-align: right;\">\n",
       "      <th></th>\n",
       "      <th>tweet_id</th>\n",
       "      <th>jpg_url</th>\n",
       "      <th>img_num</th>\n",
       "      <th>p1</th>\n",
       "      <th>p1_conf</th>\n",
       "      <th>p1_dog</th>\n",
       "      <th>p2</th>\n",
       "      <th>p2_conf</th>\n",
       "      <th>p2_dog</th>\n",
       "      <th>p3</th>\n",
       "      <th>p3_conf</th>\n",
       "      <th>p3_dog</th>\n",
       "    </tr>\n",
       "  </thead>\n",
       "  <tbody>\n",
       "    <tr>\n",
       "      <th>681</th>\n",
       "      <td>683828599284170753</td>\n",
       "      <td>https://pbs.twimg.com/media/CX1ye7HUMAADDzh.jpg</td>\n",
       "      <td>1</td>\n",
       "      <td>malamute</td>\n",
       "      <td>0.577376</td>\n",
       "      <td>True</td>\n",
       "      <td>Siberian_husky</td>\n",
       "      <td>0.287131</td>\n",
       "      <td>True</td>\n",
       "      <td>Eskimo_dog</td>\n",
       "      <td>0.117563</td>\n",
       "      <td>True</td>\n",
       "    </tr>\n",
       "    <tr>\n",
       "      <th>1868</th>\n",
       "      <td>844223788422217728</td>\n",
       "      <td>https://pbs.twimg.com/media/C7dJCnqU4AAswat.jpg</td>\n",
       "      <td>1</td>\n",
       "      <td>Labrador_retriever</td>\n",
       "      <td>0.719510</td>\n",
       "      <td>True</td>\n",
       "      <td>Chesapeake_Bay_retriever</td>\n",
       "      <td>0.122019</td>\n",
       "      <td>True</td>\n",
       "      <td>Newfoundland</td>\n",
       "      <td>0.038828</td>\n",
       "      <td>True</td>\n",
       "    </tr>\n",
       "    <tr>\n",
       "      <th>90</th>\n",
       "      <td>667538891197542400</td>\n",
       "      <td>https://pbs.twimg.com/media/CUOTFZOW4AABsfW.jpg</td>\n",
       "      <td>1</td>\n",
       "      <td>Yorkshire_terrier</td>\n",
       "      <td>0.618957</td>\n",
       "      <td>True</td>\n",
       "      <td>silky_terrier</td>\n",
       "      <td>0.300313</td>\n",
       "      <td>True</td>\n",
       "      <td>Australian_terrier</td>\n",
       "      <td>0.053412</td>\n",
       "      <td>True</td>\n",
       "    </tr>\n",
       "    <tr>\n",
       "      <th>1388</th>\n",
       "      <td>766313316352462849</td>\n",
       "      <td>https://pbs.twimg.com/media/CqJ95SRWgAATPK_.jpg</td>\n",
       "      <td>1</td>\n",
       "      <td>toy_poodle</td>\n",
       "      <td>0.966896</td>\n",
       "      <td>True</td>\n",
       "      <td>miniature_poodle</td>\n",
       "      <td>0.016424</td>\n",
       "      <td>True</td>\n",
       "      <td>cocker_spaniel</td>\n",
       "      <td>0.010227</td>\n",
       "      <td>True</td>\n",
       "    </tr>\n",
       "    <tr>\n",
       "      <th>1778</th>\n",
       "      <td>828408677031882754</td>\n",
       "      <td>https://pbs.twimg.com/media/C38ZSzlWIAEpQzs.jpg</td>\n",
       "      <td>1</td>\n",
       "      <td>Weimaraner</td>\n",
       "      <td>0.133033</td>\n",
       "      <td>True</td>\n",
       "      <td>Chesapeake_Bay_retriever</td>\n",
       "      <td>0.092227</td>\n",
       "      <td>True</td>\n",
       "      <td>American_Staffordshire_terrier</td>\n",
       "      <td>0.065094</td>\n",
       "      <td>True</td>\n",
       "    </tr>\n",
       "    <tr>\n",
       "      <th>1961</th>\n",
       "      <td>866450705531457537</td>\n",
       "      <td>https://pbs.twimg.com/media/DAZAUfBXcAAG_Nn.jpg</td>\n",
       "      <td>2</td>\n",
       "      <td>French_bulldog</td>\n",
       "      <td>0.905334</td>\n",
       "      <td>True</td>\n",
       "      <td>Boston_bull</td>\n",
       "      <td>0.078060</td>\n",
       "      <td>True</td>\n",
       "      <td>pug</td>\n",
       "      <td>0.001771</td>\n",
       "      <td>True</td>\n",
       "    </tr>\n",
       "    <tr>\n",
       "      <th>645</th>\n",
       "      <td>681610798867845120</td>\n",
       "      <td>https://pbs.twimg.com/media/CXWRZBgWkAEHMea.jpg</td>\n",
       "      <td>1</td>\n",
       "      <td>toy_poodle</td>\n",
       "      <td>0.821704</td>\n",
       "      <td>True</td>\n",
       "      <td>miniature_poodle</td>\n",
       "      <td>0.116042</td>\n",
       "      <td>True</td>\n",
       "      <td>Yorkshire_terrier</td>\n",
       "      <td>0.014847</td>\n",
       "      <td>True</td>\n",
       "    </tr>\n",
       "    <tr>\n",
       "      <th>2039</th>\n",
       "      <td>884925521741709313</td>\n",
       "      <td>https://pbs.twimg.com/media/DEfjEaNXkAAtPlj.jpg</td>\n",
       "      <td>1</td>\n",
       "      <td>Italian_greyhound</td>\n",
       "      <td>0.259916</td>\n",
       "      <td>True</td>\n",
       "      <td>American_Staffordshire_terrier</td>\n",
       "      <td>0.198451</td>\n",
       "      <td>True</td>\n",
       "      <td>Staffordshire_bullterrier</td>\n",
       "      <td>0.127725</td>\n",
       "      <td>True</td>\n",
       "    </tr>\n",
       "    <tr>\n",
       "      <th>1159</th>\n",
       "      <td>733828123016450049</td>\n",
       "      <td>https://pbs.twimg.com/media/Ci8UxxcW0AYgHDh.jpg</td>\n",
       "      <td>2</td>\n",
       "      <td>beagle</td>\n",
       "      <td>0.472324</td>\n",
       "      <td>True</td>\n",
       "      <td>Walker_hound</td>\n",
       "      <td>0.121779</td>\n",
       "      <td>True</td>\n",
       "      <td>Saint_Bernard</td>\n",
       "      <td>0.114640</td>\n",
       "      <td>True</td>\n",
       "    </tr>\n",
       "    <tr>\n",
       "      <th>968</th>\n",
       "      <td>706346369204748288</td>\n",
       "      <td>https://pbs.twimg.com/media/Cc1yRE2WoAAgxFQ.jpg</td>\n",
       "      <td>1</td>\n",
       "      <td>Tibetan_mastiff</td>\n",
       "      <td>0.956462</td>\n",
       "      <td>True</td>\n",
       "      <td>Rottweiler</td>\n",
       "      <td>0.025381</td>\n",
       "      <td>True</td>\n",
       "      <td>Appenzeller</td>\n",
       "      <td>0.008679</td>\n",
       "      <td>True</td>\n",
       "    </tr>\n",
       "    <tr>\n",
       "      <th>806</th>\n",
       "      <td>691820333922455552</td>\n",
       "      <td>https://pbs.twimg.com/media/CZnW7JGW0AA83mn.jpg</td>\n",
       "      <td>1</td>\n",
       "      <td>minivan</td>\n",
       "      <td>0.332756</td>\n",
       "      <td>False</td>\n",
       "      <td>sports_car</td>\n",
       "      <td>0.129452</td>\n",
       "      <td>False</td>\n",
       "      <td>limousine</td>\n",
       "      <td>0.073936</td>\n",
       "      <td>False</td>\n",
       "    </tr>\n",
       "    <tr>\n",
       "      <th>959</th>\n",
       "      <td>705591895322394625</td>\n",
       "      <td>https://pbs.twimg.com/media/CcrEFQdUcAA7CJf.jpg</td>\n",
       "      <td>1</td>\n",
       "      <td>basenji</td>\n",
       "      <td>0.877207</td>\n",
       "      <td>True</td>\n",
       "      <td>Italian_greyhound</td>\n",
       "      <td>0.047854</td>\n",
       "      <td>True</td>\n",
       "      <td>miniature_pinscher</td>\n",
       "      <td>0.035638</td>\n",
       "      <td>True</td>\n",
       "    </tr>\n",
       "    <tr>\n",
       "      <th>270</th>\n",
       "      <td>670822709593571328</td>\n",
       "      <td>https://pbs.twimg.com/media/CU89schWIAIHQmA.jpg</td>\n",
       "      <td>1</td>\n",
       "      <td>web_site</td>\n",
       "      <td>0.993887</td>\n",
       "      <td>False</td>\n",
       "      <td>Chihuahua</td>\n",
       "      <td>0.001252</td>\n",
       "      <td>True</td>\n",
       "      <td>menu</td>\n",
       "      <td>0.000599</td>\n",
       "      <td>False</td>\n",
       "    </tr>\n",
       "    <tr>\n",
       "      <th>291</th>\n",
       "      <td>671182547775299584</td>\n",
       "      <td>https://pbs.twimg.com/media/CVCE9uYXIAEtSzR.jpg</td>\n",
       "      <td>1</td>\n",
       "      <td>Rottweiler</td>\n",
       "      <td>0.331179</td>\n",
       "      <td>True</td>\n",
       "      <td>kelpie</td>\n",
       "      <td>0.218601</td>\n",
       "      <td>True</td>\n",
       "      <td>Appenzeller</td>\n",
       "      <td>0.182520</td>\n",
       "      <td>True</td>\n",
       "    </tr>\n",
       "    <tr>\n",
       "      <th>1327</th>\n",
       "      <td>757393109802180609</td>\n",
       "      <td>https://pbs.twimg.com/media/CoLNAq6WAAAkmdJ.jpg</td>\n",
       "      <td>2</td>\n",
       "      <td>Labrador_retriever</td>\n",
       "      <td>0.787125</td>\n",
       "      <td>True</td>\n",
       "      <td>Chesapeake_Bay_retriever</td>\n",
       "      <td>0.112676</td>\n",
       "      <td>True</td>\n",
       "      <td>Rottweiler</td>\n",
       "      <td>0.048039</td>\n",
       "      <td>True</td>\n",
       "    </tr>\n",
       "    <tr>\n",
       "      <th>573</th>\n",
       "      <td>678424312106393600</td>\n",
       "      <td>https://pbs.twimg.com/media/CWo_T8gW4AAgJNo.jpg</td>\n",
       "      <td>1</td>\n",
       "      <td>Maltese_dog</td>\n",
       "      <td>0.759945</td>\n",
       "      <td>True</td>\n",
       "      <td>toy_poodle</td>\n",
       "      <td>0.101194</td>\n",
       "      <td>True</td>\n",
       "      <td>Shih-Tzu</td>\n",
       "      <td>0.056037</td>\n",
       "      <td>True</td>\n",
       "    </tr>\n",
       "    <tr>\n",
       "      <th>1709</th>\n",
       "      <td>818145370475810820</td>\n",
       "      <td>https://pbs.twimg.com/media/C1qi26rW8AMaj9K.jpg</td>\n",
       "      <td>1</td>\n",
       "      <td>golden_retriever</td>\n",
       "      <td>0.621931</td>\n",
       "      <td>True</td>\n",
       "      <td>Labrador_retriever</td>\n",
       "      <td>0.364997</td>\n",
       "      <td>True</td>\n",
       "      <td>redbone</td>\n",
       "      <td>0.003971</td>\n",
       "      <td>True</td>\n",
       "    </tr>\n",
       "    <tr>\n",
       "      <th>720</th>\n",
       "      <td>685943807276412928</td>\n",
       "      <td>https://pbs.twimg.com/ext_tw_video_thumb/68594...</td>\n",
       "      <td>1</td>\n",
       "      <td>papillon</td>\n",
       "      <td>0.200812</td>\n",
       "      <td>True</td>\n",
       "      <td>toy_terrier</td>\n",
       "      <td>0.114512</td>\n",
       "      <td>True</td>\n",
       "      <td>Cardigan</td>\n",
       "      <td>0.094520</td>\n",
       "      <td>True</td>\n",
       "    </tr>\n",
       "    <tr>\n",
       "      <th>1834</th>\n",
       "      <td>836989968035819520</td>\n",
       "      <td>https://pbs.twimg.com/media/C52V7PzWcAA_pVv.jpg</td>\n",
       "      <td>1</td>\n",
       "      <td>shopping_cart</td>\n",
       "      <td>0.572422</td>\n",
       "      <td>False</td>\n",
       "      <td>shopping_basket</td>\n",
       "      <td>0.414002</td>\n",
       "      <td>False</td>\n",
       "      <td>toy_poodle</td>\n",
       "      <td>0.005887</td>\n",
       "      <td>True</td>\n",
       "    </tr>\n",
       "    <tr>\n",
       "      <th>1142</th>\n",
       "      <td>729854734790754305</td>\n",
       "      <td>https://pbs.twimg.com/media/CiD3AfkXEAA3S_r.jpg</td>\n",
       "      <td>1</td>\n",
       "      <td>doormat</td>\n",
       "      <td>0.359586</td>\n",
       "      <td>False</td>\n",
       "      <td>china_cabinet</td>\n",
       "      <td>0.053901</td>\n",
       "      <td>False</td>\n",
       "      <td>passenger_car</td>\n",
       "      <td>0.052665</td>\n",
       "      <td>False</td>\n",
       "    </tr>\n",
       "  </tbody>\n",
       "</table>\n",
       "</div>"
      ],
      "text/plain": [
       "                tweet_id                                            jpg_url  \\\n",
       "681   683828599284170753    https://pbs.twimg.com/media/CX1ye7HUMAADDzh.jpg   \n",
       "1868  844223788422217728    https://pbs.twimg.com/media/C7dJCnqU4AAswat.jpg   \n",
       "90    667538891197542400    https://pbs.twimg.com/media/CUOTFZOW4AABsfW.jpg   \n",
       "1388  766313316352462849    https://pbs.twimg.com/media/CqJ95SRWgAATPK_.jpg   \n",
       "1778  828408677031882754    https://pbs.twimg.com/media/C38ZSzlWIAEpQzs.jpg   \n",
       "1961  866450705531457537    https://pbs.twimg.com/media/DAZAUfBXcAAG_Nn.jpg   \n",
       "645   681610798867845120    https://pbs.twimg.com/media/CXWRZBgWkAEHMea.jpg   \n",
       "2039  884925521741709313    https://pbs.twimg.com/media/DEfjEaNXkAAtPlj.jpg   \n",
       "1159  733828123016450049    https://pbs.twimg.com/media/Ci8UxxcW0AYgHDh.jpg   \n",
       "968   706346369204748288    https://pbs.twimg.com/media/Cc1yRE2WoAAgxFQ.jpg   \n",
       "806   691820333922455552    https://pbs.twimg.com/media/CZnW7JGW0AA83mn.jpg   \n",
       "959   705591895322394625    https://pbs.twimg.com/media/CcrEFQdUcAA7CJf.jpg   \n",
       "270   670822709593571328    https://pbs.twimg.com/media/CU89schWIAIHQmA.jpg   \n",
       "291   671182547775299584    https://pbs.twimg.com/media/CVCE9uYXIAEtSzR.jpg   \n",
       "1327  757393109802180609    https://pbs.twimg.com/media/CoLNAq6WAAAkmdJ.jpg   \n",
       "573   678424312106393600    https://pbs.twimg.com/media/CWo_T8gW4AAgJNo.jpg   \n",
       "1709  818145370475810820    https://pbs.twimg.com/media/C1qi26rW8AMaj9K.jpg   \n",
       "720   685943807276412928  https://pbs.twimg.com/ext_tw_video_thumb/68594...   \n",
       "1834  836989968035819520    https://pbs.twimg.com/media/C52V7PzWcAA_pVv.jpg   \n",
       "1142  729854734790754305    https://pbs.twimg.com/media/CiD3AfkXEAA3S_r.jpg   \n",
       "\n",
       "      img_num                  p1   p1_conf  p1_dog  \\\n",
       "681         1            malamute  0.577376    True   \n",
       "1868        1  Labrador_retriever  0.719510    True   \n",
       "90          1   Yorkshire_terrier  0.618957    True   \n",
       "1388        1          toy_poodle  0.966896    True   \n",
       "1778        1          Weimaraner  0.133033    True   \n",
       "1961        2      French_bulldog  0.905334    True   \n",
       "645         1          toy_poodle  0.821704    True   \n",
       "2039        1   Italian_greyhound  0.259916    True   \n",
       "1159        2              beagle  0.472324    True   \n",
       "968         1     Tibetan_mastiff  0.956462    True   \n",
       "806         1             minivan  0.332756   False   \n",
       "959         1             basenji  0.877207    True   \n",
       "270         1            web_site  0.993887   False   \n",
       "291         1          Rottweiler  0.331179    True   \n",
       "1327        2  Labrador_retriever  0.787125    True   \n",
       "573         1         Maltese_dog  0.759945    True   \n",
       "1709        1    golden_retriever  0.621931    True   \n",
       "720         1            papillon  0.200812    True   \n",
       "1834        1       shopping_cart  0.572422   False   \n",
       "1142        1             doormat  0.359586   False   \n",
       "\n",
       "                                  p2   p2_conf  p2_dog  \\\n",
       "681                   Siberian_husky  0.287131    True   \n",
       "1868        Chesapeake_Bay_retriever  0.122019    True   \n",
       "90                     silky_terrier  0.300313    True   \n",
       "1388                miniature_poodle  0.016424    True   \n",
       "1778        Chesapeake_Bay_retriever  0.092227    True   \n",
       "1961                     Boston_bull  0.078060    True   \n",
       "645                 miniature_poodle  0.116042    True   \n",
       "2039  American_Staffordshire_terrier  0.198451    True   \n",
       "1159                    Walker_hound  0.121779    True   \n",
       "968                       Rottweiler  0.025381    True   \n",
       "806                       sports_car  0.129452   False   \n",
       "959                Italian_greyhound  0.047854    True   \n",
       "270                        Chihuahua  0.001252    True   \n",
       "291                           kelpie  0.218601    True   \n",
       "1327        Chesapeake_Bay_retriever  0.112676    True   \n",
       "573                       toy_poodle  0.101194    True   \n",
       "1709              Labrador_retriever  0.364997    True   \n",
       "720                      toy_terrier  0.114512    True   \n",
       "1834                 shopping_basket  0.414002   False   \n",
       "1142                   china_cabinet  0.053901   False   \n",
       "\n",
       "                                  p3   p3_conf  p3_dog  \n",
       "681                       Eskimo_dog  0.117563    True  \n",
       "1868                    Newfoundland  0.038828    True  \n",
       "90                Australian_terrier  0.053412    True  \n",
       "1388                  cocker_spaniel  0.010227    True  \n",
       "1778  American_Staffordshire_terrier  0.065094    True  \n",
       "1961                             pug  0.001771    True  \n",
       "645                Yorkshire_terrier  0.014847    True  \n",
       "2039       Staffordshire_bullterrier  0.127725    True  \n",
       "1159                   Saint_Bernard  0.114640    True  \n",
       "968                      Appenzeller  0.008679    True  \n",
       "806                        limousine  0.073936   False  \n",
       "959               miniature_pinscher  0.035638    True  \n",
       "270                             menu  0.000599   False  \n",
       "291                      Appenzeller  0.182520    True  \n",
       "1327                      Rottweiler  0.048039    True  \n",
       "573                         Shih-Tzu  0.056037    True  \n",
       "1709                         redbone  0.003971    True  \n",
       "720                         Cardigan  0.094520    True  \n",
       "1834                      toy_poodle  0.005887    True  \n",
       "1142                   passenger_car  0.052665   False  "
      ]
     },
     "execution_count": 11,
     "metadata": {},
     "output_type": "execute_result"
    }
   ],
   "source": [
    "df_image.head(10)\n",
    "df_image.sample(20)"
   ]
  },
  {
   "cell_type": "code",
   "execution_count": 769,
   "metadata": {},
   "outputs": [
    {
     "data": {
      "text/plain": [
       "golden_retriever             150\n",
       "Labrador_retriever           100\n",
       "Pembroke                      89\n",
       "Chihuahua                     83\n",
       "pug                           57\n",
       "chow                          44\n",
       "Samoyed                       43\n",
       "toy_poodle                    39\n",
       "Pomeranian                    38\n",
       "malamute                      30\n",
       "cocker_spaniel                30\n",
       "French_bulldog                26\n",
       "Chesapeake_Bay_retriever      23\n",
       "miniature_pinscher            23\n",
       "seat_belt                     22\n",
       "Staffordshire_bullterrier     20\n",
       "Siberian_husky                20\n",
       "German_shepherd               20\n",
       "Cardigan                      19\n",
       "web_site                      19\n",
       "beagle                        18\n",
       "Maltese_dog                   18\n",
       "teddy                         18\n",
       "Eskimo_dog                    18\n",
       "Shetland_sheepdog             18\n",
       "Lakeland_terrier              17\n",
       "Rottweiler                    17\n",
       "Shih-Tzu                      17\n",
       "Italian_greyhound             16\n",
       "kuvasz                        16\n",
       "                            ... \n",
       "toilet_seat                    1\n",
       "orange                         1\n",
       "coil                           1\n",
       "timber_wolf                    1\n",
       "radio_telescope                1\n",
       "pitcher                        1\n",
       "revolver                       1\n",
       "swab                           1\n",
       "hay                            1\n",
       "sunglasses                     1\n",
       "bookshop                       1\n",
       "barbell                        1\n",
       "groenendael                    1\n",
       "cuirass                        1\n",
       "terrapin                       1\n",
       "EntleBucher                    1\n",
       "ibex                           1\n",
       "standard_schnauzer             1\n",
       "basketball                     1\n",
       "dhole                          1\n",
       "robin                          1\n",
       "cliff                          1\n",
       "Madagascar_cat                 1\n",
       "sulphur-crested_cockatoo       1\n",
       "nail                           1\n",
       "lion                           1\n",
       "ping-pong_ball                 1\n",
       "prayer_rug                     1\n",
       "electric_fan                   1\n",
       "platypus                       1\n",
       "Name: p1, Length: 378, dtype: int64"
      ]
     },
     "execution_count": 769,
     "metadata": {},
     "output_type": "execute_result"
    }
   ],
   "source": [
    "df_image.p1.value_counts()"
   ]
  },
  {
   "cell_type": "markdown",
   "metadata": {},
   "source": [
    "#### Quality\n",
    "##### archive table\n",
    "- Missing data for retweets and likes\n",
    "- Incorrect ratings data and unnusable values\n",
    "    - abnormal values\n",
    "    - 75 should be 9.75\n",
    "    - 1776, 420, other outliers will skew analysis\n",
    "- Erroneous data types (ID, ratings, favorite_count, retweet_count, timestamp) \n",
    "- Retweets and reply-to tweets need to be removed\n",
    "- Retweets and reply-to columns need to be removed\n",
    "- Rows without images need to be removed\n",
    "- Erroneous and missing names\n",
    "- Source column is hard to understand\n",
    "\n",
    "\n",
    "\n",
    "##### image prediction table\n",
    "- results that are not dogs should be removed\n",
    "- Erroneous datatypes (tweet_id)\n",
    "\n",
    "#### Tidiness\n",
    "##### archive table\n",
    "- There should be one column for dog stages\n",
    "- There should be one column for dog breed, and it should be connected to the archive table\n",
    "- There should be one columns for rating \n",
    "- rows with more than one rating should be removed (multiple observations within one row)\n",
    "\n"
   ]
  },
  {
   "cell_type": "code",
   "execution_count": null,
   "metadata": {},
   "outputs": [],
   "source": []
  },
  {
   "cell_type": "markdown",
   "metadata": {},
   "source": [
    "## Clean"
   ]
  },
  {
   "cell_type": "markdown",
   "metadata": {},
   "source": [
    "### Missing data:\n",
    "####  Define: \n",
    " - The likes and retweet counts will be added. \n",
    " - The archive and new dataframes are combined with an inner join. This will exclude values from the archive that are no longer present. This will be easier if the tweet IDs are strings. \n",
    " - Data types are changed so that the archive table and newly extracted data can be combined. \n",
    " - Tables are merged with an inner join to revove any tweets not existing in both dataframes.\n"
   ]
  },
  {
   "cell_type": "code",
   "execution_count": 719,
   "metadata": {},
   "outputs": [],
   "source": [
    "#make copies of dataframes\n",
    "df_new2 = df_new.copy()\n",
    "df_archive2 = df_archive.copy()\n",
    "df_image2 = df_image.copy()"
   ]
  },
  {
   "cell_type": "markdown",
   "metadata": {},
   "source": [
    "#### Code"
   ]
  },
  {
   "cell_type": "code",
   "execution_count": 720,
   "metadata": {},
   "outputs": [],
   "source": [
    "df_new2.tweet_id = df_new2['tweet_id'].astype('str')\n",
    "df_archive2.tweet_id = df_archive2.tweet_id.astype('str')"
   ]
  },
  {
   "cell_type": "code",
   "execution_count": 721,
   "metadata": {},
   "outputs": [],
   "source": [
    "df_clean = df_archive2.merge(df_new2, how= 'inner', on = 'tweet_id')"
   ]
  },
  {
   "cell_type": "markdown",
   "metadata": {},
   "source": [
    "#### Test"
   ]
  },
  {
   "cell_type": "code",
   "execution_count": 722,
   "metadata": {},
   "outputs": [
    {
     "data": {
      "text/plain": [
       "False"
      ]
     },
     "execution_count": 722,
     "metadata": {},
     "output_type": "execute_result"
    }
   ],
   "source": [
    "df_clean.head(3)\n",
    "df_clean2.tweet_id.duplicated().any()"
   ]
  },
  {
   "cell_type": "markdown",
   "metadata": {},
   "source": [
    "### Unnecessary columns/data\n",
    " #### Define: \n",
    " - Unnecessary tweets are removed by removing rows that contain a value in retweet-status and in-reply-to columns as well as those that do not contain photos. Excess columns are removed. \n",
    " - Rows with other than null values in retweeted and in_reply_to columns are dropped from the dataset\n",
    " - the old text will be replaced by my newly collected text as it will be used later and I want to be sure of its correctness\n",
    " - tweets without a photo are also dropped\n",
    " - Unnecessary columns are removed.\n",
    "\n",
    "\n",
    "\n"
   ]
  },
  {
   "cell_type": "markdown",
   "metadata": {},
   "source": [
    "#### Code"
   ]
  },
  {
   "cell_type": "code",
   "execution_count": 723,
   "metadata": {},
   "outputs": [],
   "source": [
    "df_clean = df_clean[(df_clean['retweeted_status_id'].isna()) & (df_clean['in_reply_to_status_id'].isna())]"
   ]
  },
  {
   "cell_type": "markdown",
   "metadata": {},
   "source": [
    "#### Test"
   ]
  },
  {
   "cell_type": "code",
   "execution_count": 724,
   "metadata": {},
   "outputs": [
    {
     "data": {
      "text/html": [
       "<div>\n",
       "<style scoped>\n",
       "    .dataframe tbody tr th:only-of-type {\n",
       "        vertical-align: middle;\n",
       "    }\n",
       "\n",
       "    .dataframe tbody tr th {\n",
       "        vertical-align: top;\n",
       "    }\n",
       "\n",
       "    .dataframe thead th {\n",
       "        text-align: right;\n",
       "    }\n",
       "</style>\n",
       "<table border=\"1\" class=\"dataframe\">\n",
       "  <thead>\n",
       "    <tr style=\"text-align: right;\">\n",
       "      <th></th>\n",
       "      <th>tweet_id</th>\n",
       "      <th>in_reply_to_status_id</th>\n",
       "      <th>in_reply_to_user_id</th>\n",
       "      <th>timestamp</th>\n",
       "      <th>source</th>\n",
       "      <th>text_x</th>\n",
       "      <th>retweeted_status_id</th>\n",
       "      <th>retweeted_status_user_id</th>\n",
       "      <th>retweeted_status_timestamp</th>\n",
       "      <th>expanded_urls</th>\n",
       "      <th>rating_numerator</th>\n",
       "      <th>rating_denominator</th>\n",
       "      <th>name</th>\n",
       "      <th>doggo</th>\n",
       "      <th>floofer</th>\n",
       "      <th>pupper</th>\n",
       "      <th>puppo</th>\n",
       "      <th>text_y</th>\n",
       "      <th>retweet_count</th>\n",
       "      <th>favorite_count</th>\n",
       "    </tr>\n",
       "  </thead>\n",
       "  <tbody>\n",
       "  </tbody>\n",
       "</table>\n",
       "</div>"
      ],
      "text/plain": [
       "Empty DataFrame\n",
       "Columns: [tweet_id, in_reply_to_status_id, in_reply_to_user_id, timestamp, source, text_x, retweeted_status_id, retweeted_status_user_id, retweeted_status_timestamp, expanded_urls, rating_numerator, rating_denominator, name, doggo, floofer, pupper, puppo, text_y, retweet_count, favorite_count]\n",
       "Index: []"
      ]
     },
     "execution_count": 724,
     "metadata": {},
     "output_type": "execute_result"
    }
   ],
   "source": [
    "# Test: the new and old text columns were compared to identify any differences\n",
    "df_clean[df_clean.text_y != df_clean.text_x]"
   ]
  },
  {
   "cell_type": "markdown",
   "metadata": {},
   "source": [
    "#### Code"
   ]
  },
  {
   "cell_type": "code",
   "execution_count": 725,
   "metadata": {},
   "outputs": [],
   "source": [
    "df_clean.drop('text_x', axis = 1, inplace = True)"
   ]
  },
  {
   "cell_type": "code",
   "execution_count": 726,
   "metadata": {},
   "outputs": [],
   "source": [
    "#the name is changed back to 'text'\n",
    "df_clean.rename(columns = {'text_y': 'text'}, inplace = True)"
   ]
  },
  {
   "cell_type": "code",
   "execution_count": 727,
   "metadata": {},
   "outputs": [],
   "source": [
    "df_clean = df_clean[df_clean.text.str.contains(\"https://\")]"
   ]
  },
  {
   "cell_type": "code",
   "execution_count": 728,
   "metadata": {},
   "outputs": [],
   "source": [
    "df_clean.drop(['retweeted_status_id', 'retweeted_status_user_id', 'retweeted_status_timestamp', 'rating_denominator', 'in_reply_to_status_id', 'in_reply_to_user_id'],  axis =1, inplace = True )"
   ]
  },
  {
   "cell_type": "markdown",
   "metadata": {},
   "source": [
    "#### Test"
   ]
  },
  {
   "cell_type": "code",
   "execution_count": 729,
   "metadata": {},
   "outputs": [
    {
     "name": "stdout",
     "output_type": "stream",
     "text": [
      "<class 'pandas.core.frame.DataFrame'>\n",
      "Int64Index: 2090 entries, 0 to 2336\n",
      "Data columns (total 13 columns):\n",
      "tweet_id            2090 non-null object\n",
      "timestamp           2090 non-null object\n",
      "source              2090 non-null object\n",
      "expanded_urls       2090 non-null object\n",
      "rating_numerator    2090 non-null int64\n",
      "name                2090 non-null object\n",
      "doggo               2090 non-null object\n",
      "floofer             2090 non-null object\n",
      "pupper              2090 non-null object\n",
      "puppo               2090 non-null object\n",
      "text                2090 non-null object\n",
      "retweet_count       2090 non-null object\n",
      "favorite_count      2090 non-null object\n",
      "dtypes: int64(1), object(12)\n",
      "memory usage: 228.6+ KB\n"
     ]
    },
    {
     "data": {
      "text/html": [
       "<div>\n",
       "<style scoped>\n",
       "    .dataframe tbody tr th:only-of-type {\n",
       "        vertical-align: middle;\n",
       "    }\n",
       "\n",
       "    .dataframe tbody tr th {\n",
       "        vertical-align: top;\n",
       "    }\n",
       "\n",
       "    .dataframe thead th {\n",
       "        text-align: right;\n",
       "    }\n",
       "</style>\n",
       "<table border=\"1\" class=\"dataframe\">\n",
       "  <thead>\n",
       "    <tr style=\"text-align: right;\">\n",
       "      <th></th>\n",
       "      <th>tweet_id</th>\n",
       "      <th>timestamp</th>\n",
       "      <th>source</th>\n",
       "      <th>expanded_urls</th>\n",
       "      <th>rating_numerator</th>\n",
       "      <th>name</th>\n",
       "      <th>doggo</th>\n",
       "      <th>floofer</th>\n",
       "      <th>pupper</th>\n",
       "      <th>puppo</th>\n",
       "      <th>text</th>\n",
       "      <th>retweet_count</th>\n",
       "      <th>favorite_count</th>\n",
       "    </tr>\n",
       "  </thead>\n",
       "  <tbody>\n",
       "    <tr>\n",
       "      <th>1268</th>\n",
       "      <td>708400866336894977</td>\n",
       "      <td>2016-03-11 21:15:02 +0000</td>\n",
       "      <td>&lt;a href=\"http://vine.co\" rel=\"nofollow\"&gt;Vine -...</td>\n",
       "      <td>https://vine.co/v/iHFqnjKVbIQ</td>\n",
       "      <td>12</td>\n",
       "      <td>None</td>\n",
       "      <td>None</td>\n",
       "      <td>None</td>\n",
       "      <td>None</td>\n",
       "      <td>None</td>\n",
       "      <td>RT if you are as ready for summer as this pup ...</td>\n",
       "      <td>10614</td>\n",
       "      <td>16515</td>\n",
       "    </tr>\n",
       "    <tr>\n",
       "      <th>1632</th>\n",
       "      <td>683515932363329536</td>\n",
       "      <td>2016-01-03 05:11:12 +0000</td>\n",
       "      <td>&lt;a href=\"http://vine.co\" rel=\"nofollow\"&gt;Vine -...</td>\n",
       "      <td>https://vine.co/v/ibvnzrauFuV</td>\n",
       "      <td>11</td>\n",
       "      <td>None</td>\n",
       "      <td>None</td>\n",
       "      <td>None</td>\n",
       "      <td>None</td>\n",
       "      <td>None</td>\n",
       "      <td>HEY PUP WHAT'S THE PART OF THE HUMAN BODY THAT...</td>\n",
       "      <td>3074</td>\n",
       "      <td>7612</td>\n",
       "    </tr>\n",
       "    <tr>\n",
       "      <th>1841</th>\n",
       "      <td>675489971617296384</td>\n",
       "      <td>2015-12-12 01:38:53 +0000</td>\n",
       "      <td>&lt;a href=\"http://twitter.com/download/iphone\" r...</td>\n",
       "      <td>https://twitter.com/dog_rates/status/675489971...</td>\n",
       "      <td>10</td>\n",
       "      <td>None</td>\n",
       "      <td>None</td>\n",
       "      <td>None</td>\n",
       "      <td>None</td>\n",
       "      <td>None</td>\n",
       "      <td>RT until we find this dog. Clearly a cool dog ...</td>\n",
       "      <td>619</td>\n",
       "      <td>1321</td>\n",
       "    </tr>\n",
       "    <tr>\n",
       "      <th>1972</th>\n",
       "      <td>672622327801233409</td>\n",
       "      <td>2015-12-04 03:43:54 +0000</td>\n",
       "      <td>&lt;a href=\"http://twitter.com/download/iphone\" r...</td>\n",
       "      <td>https://twitter.com/dog_rates/status/672622327...</td>\n",
       "      <td>12</td>\n",
       "      <td>None</td>\n",
       "      <td>None</td>\n",
       "      <td>None</td>\n",
       "      <td>pupper</td>\n",
       "      <td>None</td>\n",
       "      <td>This lil pupper is sad because we haven't foun...</td>\n",
       "      <td>499</td>\n",
       "      <td>1305</td>\n",
       "    </tr>\n",
       "  </tbody>\n",
       "</table>\n",
       "</div>"
      ],
      "text/plain": [
       "                tweet_id                  timestamp  \\\n",
       "1268  708400866336894977  2016-03-11 21:15:02 +0000   \n",
       "1632  683515932363329536  2016-01-03 05:11:12 +0000   \n",
       "1841  675489971617296384  2015-12-12 01:38:53 +0000   \n",
       "1972  672622327801233409  2015-12-04 03:43:54 +0000   \n",
       "\n",
       "                                                 source  \\\n",
       "1268  <a href=\"http://vine.co\" rel=\"nofollow\">Vine -...   \n",
       "1632  <a href=\"http://vine.co\" rel=\"nofollow\">Vine -...   \n",
       "1841  <a href=\"http://twitter.com/download/iphone\" r...   \n",
       "1972  <a href=\"http://twitter.com/download/iphone\" r...   \n",
       "\n",
       "                                          expanded_urls  rating_numerator  \\\n",
       "1268                      https://vine.co/v/iHFqnjKVbIQ                12   \n",
       "1632                      https://vine.co/v/ibvnzrauFuV                11   \n",
       "1841  https://twitter.com/dog_rates/status/675489971...                10   \n",
       "1972  https://twitter.com/dog_rates/status/672622327...                12   \n",
       "\n",
       "      name doggo floofer  pupper puppo  \\\n",
       "1268  None  None    None    None  None   \n",
       "1632  None  None    None    None  None   \n",
       "1841  None  None    None    None  None   \n",
       "1972  None  None    None  pupper  None   \n",
       "\n",
       "                                                   text retweet_count  \\\n",
       "1268  RT if you are as ready for summer as this pup ...         10614   \n",
       "1632  HEY PUP WHAT'S THE PART OF THE HUMAN BODY THAT...          3074   \n",
       "1841  RT until we find this dog. Clearly a cool dog ...           619   \n",
       "1972  This lil pupper is sad because we haven't foun...           499   \n",
       "\n",
       "     favorite_count  \n",
       "1268          16515  \n",
       "1632           7612  \n",
       "1841           1321  \n",
       "1972           1305  "
      ]
     },
     "execution_count": 729,
     "metadata": {},
     "output_type": "execute_result"
    }
   ],
   "source": [
    "df_clean.head()\n",
    "df_clean.info()\n",
    "# check for any remaing text columns containing \"RT\". The resulting rows are not retweets.\n",
    "df_clean[df_clean.text.str.contains('RT ')]"
   ]
  },
  {
   "cell_type": "code",
   "execution_count": 730,
   "metadata": {},
   "outputs": [
    {
     "data": {
      "text/plain": [
       "(2090, 13)"
      ]
     },
     "execution_count": 730,
     "metadata": {},
     "output_type": "execute_result"
    }
   ],
   "source": [
    "df_clean.shape"
   ]
  },
  {
   "cell_type": "markdown",
   "metadata": {},
   "source": [
    "### Stage should be one column\n",
    "#### Define:\n",
    "\n",
    "  - re-extract from text, join, and then delete excess columns\n",
    "  - stages are extracted again from the text column\n",
    "  - the new stage column is a list. The few columns with double entries are separated with a comma and all values become strings. \n",
    "  -  A forward slash replaces the comma for visual purposes\n",
    "  - Excess columns are removed and results are stored in a new dataframe. \n",
    "\n",
    "\n"
   ]
  },
  {
   "cell_type": "markdown",
   "metadata": {},
   "source": [
    "#### Code"
   ]
  },
  {
   "cell_type": "code",
   "execution_count": 731,
   "metadata": {},
   "outputs": [],
   "source": [
    "df_clean['stage'] = df_clean.text.str.findall(r'(doggo|floofer|pupper|puppo)')"
   ]
  },
  {
   "cell_type": "code",
   "execution_count": 732,
   "metadata": {},
   "outputs": [],
   "source": [
    "df_clean['stage'] = df_clean['stage'].str.join(',')"
   ]
  },
  {
   "cell_type": "code",
   "execution_count": 733,
   "metadata": {},
   "outputs": [],
   "source": [
    "df_clean.stage = df_clean.stage.str.replace(',', '/')"
   ]
  },
  {
   "cell_type": "code",
   "execution_count": 734,
   "metadata": {},
   "outputs": [],
   "source": [
    "#replecated stages are removed\n",
    "df_clean['stage'].replace('pupper/pupper', 'pupper', inplace =True) \n",
    "df_clean['stage'].replace('pupper/doggo/doggo', 'pupper/doggo', inplace = True) \n",
    "df_clean['stage'].replace('pupper/pupper/pupper', 'pupper', inplace = True) "
   ]
  },
  {
   "cell_type": "code",
   "execution_count": 735,
   "metadata": {},
   "outputs": [],
   "source": [
    "df_clean2 = df_clean.drop(['doggo', 'floofer', 'pupper', 'puppo'], axis =1)"
   ]
  },
  {
   "cell_type": "markdown",
   "metadata": {},
   "source": [
    "#### Test"
   ]
  },
  {
   "cell_type": "code",
   "execution_count": 736,
   "metadata": {},
   "outputs": [
    {
     "data": {
      "text/plain": [
       "                1738\n",
       "pupper           237\n",
       "doggo             75\n",
       "puppo             27\n",
       "doggo/pupper       5\n",
       "floofer            4\n",
       "pupper/doggo       2\n",
       "puppo/doggo        2\n",
       "Name: stage, dtype: int64"
      ]
     },
     "execution_count": 736,
     "metadata": {},
     "output_type": "execute_result"
    }
   ],
   "source": [
    "df_clean2.stage.value_counts()"
   ]
  },
  {
   "cell_type": "markdown",
   "metadata": {},
   "source": [
    "### Correction of ratings\n",
    "#### Define:\n",
    "  - Re-extract ratings and remove outliers. \n",
    "  - A regular expression is used to find all ratings\n",
    "  - Rows with multiple ratings or no ratings are removed\n",
    "  - The value is selected from the list so that it is no more in list format\n",
    "  - The numerator is selected\n",
    "  - The original rating numerator column is removed\n",
    "   - Outliers are removed\n",
    "\n",
    "\n",
    "\n",
    "\n"
   ]
  },
  {
   "cell_type": "markdown",
   "metadata": {},
   "source": [
    "#### Code"
   ]
  },
  {
   "cell_type": "code",
   "execution_count": 737,
   "metadata": {
    "scrolled": true
   },
   "outputs": [],
   "source": [
    "df_clean2['rating'] = df_clean2['text'].str.findall(r'(\\d+/10)')"
   ]
  },
  {
   "cell_type": "code",
   "execution_count": 738,
   "metadata": {},
   "outputs": [],
   "source": [
    "df_clean2 = df_clean2[(df_clean2['rating'].str.len() < 2) & (df_clean2['rating'].str.len() > 0)]"
   ]
  },
  {
   "cell_type": "code",
   "execution_count": 739,
   "metadata": {},
   "outputs": [],
   "source": [
    "df_clean2['rating'] = df_clean2['rating'].apply(lambda x: x[0])"
   ]
  },
  {
   "cell_type": "markdown",
   "metadata": {},
   "source": [
    "#### Test"
   ]
  },
  {
   "cell_type": "code",
   "execution_count": 740,
   "metadata": {
    "scrolled": true
   },
   "outputs": [
    {
     "data": {
      "text/html": [
       "<div>\n",
       "<style scoped>\n",
       "    .dataframe tbody tr th:only-of-type {\n",
       "        vertical-align: middle;\n",
       "    }\n",
       "\n",
       "    .dataframe tbody tr th {\n",
       "        vertical-align: top;\n",
       "    }\n",
       "\n",
       "    .dataframe thead th {\n",
       "        text-align: right;\n",
       "    }\n",
       "</style>\n",
       "<table border=\"1\" class=\"dataframe\">\n",
       "  <thead>\n",
       "    <tr style=\"text-align: right;\">\n",
       "      <th></th>\n",
       "      <th>tweet_id</th>\n",
       "      <th>timestamp</th>\n",
       "      <th>source</th>\n",
       "      <th>expanded_urls</th>\n",
       "      <th>rating_numerator</th>\n",
       "      <th>name</th>\n",
       "      <th>text</th>\n",
       "      <th>retweet_count</th>\n",
       "      <th>favorite_count</th>\n",
       "      <th>stage</th>\n",
       "      <th>rating</th>\n",
       "    </tr>\n",
       "  </thead>\n",
       "  <tbody>\n",
       "    <tr>\n",
       "      <th>0</th>\n",
       "      <td>892420643555336193</td>\n",
       "      <td>2017-08-01 16:23:56 +0000</td>\n",
       "      <td>&lt;a href=\"http://twitter.com/download/iphone\" r...</td>\n",
       "      <td>https://twitter.com/dog_rates/status/892420643...</td>\n",
       "      <td>13</td>\n",
       "      <td>Phineas</td>\n",
       "      <td>This is Phineas. He's a mystical boy. Only eve...</td>\n",
       "      <td>8188</td>\n",
       "      <td>37545</td>\n",
       "      <td></td>\n",
       "      <td>13/10</td>\n",
       "    </tr>\n",
       "    <tr>\n",
       "      <th>1</th>\n",
       "      <td>892177421306343426</td>\n",
       "      <td>2017-08-01 00:17:27 +0000</td>\n",
       "      <td>&lt;a href=\"http://twitter.com/download/iphone\" r...</td>\n",
       "      <td>https://twitter.com/dog_rates/status/892177421...</td>\n",
       "      <td>13</td>\n",
       "      <td>Tilly</td>\n",
       "      <td>This is Tilly. She's just checking pup on you....</td>\n",
       "      <td>6058</td>\n",
       "      <td>32274</td>\n",
       "      <td></td>\n",
       "      <td>13/10</td>\n",
       "    </tr>\n",
       "    <tr>\n",
       "      <th>2</th>\n",
       "      <td>891815181378084864</td>\n",
       "      <td>2017-07-31 00:18:03 +0000</td>\n",
       "      <td>&lt;a href=\"http://twitter.com/download/iphone\" r...</td>\n",
       "      <td>https://twitter.com/dog_rates/status/891815181...</td>\n",
       "      <td>12</td>\n",
       "      <td>Archie</td>\n",
       "      <td>This is Archie. He is a rare Norwegian Pouncin...</td>\n",
       "      <td>4008</td>\n",
       "      <td>24314</td>\n",
       "      <td></td>\n",
       "      <td>12/10</td>\n",
       "    </tr>\n",
       "    <tr>\n",
       "      <th>3</th>\n",
       "      <td>891689557279858688</td>\n",
       "      <td>2017-07-30 15:58:51 +0000</td>\n",
       "      <td>&lt;a href=\"http://twitter.com/download/iphone\" r...</td>\n",
       "      <td>https://twitter.com/dog_rates/status/891689557...</td>\n",
       "      <td>13</td>\n",
       "      <td>Darla</td>\n",
       "      <td>This is Darla. She commenced a snooze mid meal...</td>\n",
       "      <td>8343</td>\n",
       "      <td>40885</td>\n",
       "      <td></td>\n",
       "      <td>13/10</td>\n",
       "    </tr>\n",
       "    <tr>\n",
       "      <th>4</th>\n",
       "      <td>891327558926688256</td>\n",
       "      <td>2017-07-29 16:00:24 +0000</td>\n",
       "      <td>&lt;a href=\"http://twitter.com/download/iphone\" r...</td>\n",
       "      <td>https://twitter.com/dog_rates/status/891327558...</td>\n",
       "      <td>12</td>\n",
       "      <td>Franklin</td>\n",
       "      <td>This is Franklin. He would like you to stop ca...</td>\n",
       "      <td>9037</td>\n",
       "      <td>39086</td>\n",
       "      <td></td>\n",
       "      <td>12/10</td>\n",
       "    </tr>\n",
       "  </tbody>\n",
       "</table>\n",
       "</div>"
      ],
      "text/plain": [
       "             tweet_id                  timestamp  \\\n",
       "0  892420643555336193  2017-08-01 16:23:56 +0000   \n",
       "1  892177421306343426  2017-08-01 00:17:27 +0000   \n",
       "2  891815181378084864  2017-07-31 00:18:03 +0000   \n",
       "3  891689557279858688  2017-07-30 15:58:51 +0000   \n",
       "4  891327558926688256  2017-07-29 16:00:24 +0000   \n",
       "\n",
       "                                              source  \\\n",
       "0  <a href=\"http://twitter.com/download/iphone\" r...   \n",
       "1  <a href=\"http://twitter.com/download/iphone\" r...   \n",
       "2  <a href=\"http://twitter.com/download/iphone\" r...   \n",
       "3  <a href=\"http://twitter.com/download/iphone\" r...   \n",
       "4  <a href=\"http://twitter.com/download/iphone\" r...   \n",
       "\n",
       "                                       expanded_urls  rating_numerator  \\\n",
       "0  https://twitter.com/dog_rates/status/892420643...                13   \n",
       "1  https://twitter.com/dog_rates/status/892177421...                13   \n",
       "2  https://twitter.com/dog_rates/status/891815181...                12   \n",
       "3  https://twitter.com/dog_rates/status/891689557...                13   \n",
       "4  https://twitter.com/dog_rates/status/891327558...                12   \n",
       "\n",
       "       name                                               text retweet_count  \\\n",
       "0   Phineas  This is Phineas. He's a mystical boy. Only eve...          8188   \n",
       "1     Tilly  This is Tilly. She's just checking pup on you....          6058   \n",
       "2    Archie  This is Archie. He is a rare Norwegian Pouncin...          4008   \n",
       "3     Darla  This is Darla. She commenced a snooze mid meal...          8343   \n",
       "4  Franklin  This is Franklin. He would like you to stop ca...          9037   \n",
       "\n",
       "  favorite_count stage rating  \n",
       "0          37545        13/10  \n",
       "1          32274        13/10  \n",
       "2          24314        12/10  \n",
       "3          40885        13/10  \n",
       "4          39086        12/10  "
      ]
     },
     "execution_count": 740,
     "metadata": {},
     "output_type": "execute_result"
    }
   ],
   "source": [
    "df_clean2.head()"
   ]
  },
  {
   "cell_type": "markdown",
   "metadata": {},
   "source": [
    "#### Code"
   ]
  },
  {
   "cell_type": "code",
   "execution_count": 741,
   "metadata": {},
   "outputs": [],
   "source": [
    "df_clean2.rating = df_clean2['rating'].str.extract('(^\\d+)')"
   ]
  },
  {
   "cell_type": "code",
   "execution_count": 742,
   "metadata": {},
   "outputs": [],
   "source": [
    "df_clean2.rating = df_clean2.rating.astype(float)"
   ]
  },
  {
   "cell_type": "markdown",
   "metadata": {},
   "source": [
    "#### Test"
   ]
  },
  {
   "cell_type": "code",
   "execution_count": 743,
   "metadata": {},
   "outputs": [
    {
     "data": {
      "text/html": [
       "<div>\n",
       "<style scoped>\n",
       "    .dataframe tbody tr th:only-of-type {\n",
       "        vertical-align: middle;\n",
       "    }\n",
       "\n",
       "    .dataframe tbody tr th {\n",
       "        vertical-align: top;\n",
       "    }\n",
       "\n",
       "    .dataframe thead th {\n",
       "        text-align: right;\n",
       "    }\n",
       "</style>\n",
       "<table border=\"1\" class=\"dataframe\">\n",
       "  <thead>\n",
       "    <tr style=\"text-align: right;\">\n",
       "      <th></th>\n",
       "      <th>tweet_id</th>\n",
       "      <th>timestamp</th>\n",
       "      <th>source</th>\n",
       "      <th>expanded_urls</th>\n",
       "      <th>rating_numerator</th>\n",
       "      <th>name</th>\n",
       "      <th>text</th>\n",
       "      <th>retweet_count</th>\n",
       "      <th>favorite_count</th>\n",
       "      <th>stage</th>\n",
       "      <th>rating</th>\n",
       "    </tr>\n",
       "  </thead>\n",
       "  <tbody>\n",
       "    <tr>\n",
       "      <th>1050</th>\n",
       "      <td>740373189193256964</td>\n",
       "      <td>2016-06-08 02:41:38 +0000</td>\n",
       "      <td>&lt;a href=\"http://twitter.com/download/iphone\" r...</td>\n",
       "      <td>https://twitter.com/dog_rates/status/740373189...</td>\n",
       "      <td>9</td>\n",
       "      <td>None</td>\n",
       "      <td>After so many requests, this is Bretagne. She ...</td>\n",
       "      <td>13976</td>\n",
       "      <td>36027</td>\n",
       "      <td></td>\n",
       "      <td>14.0</td>\n",
       "    </tr>\n",
       "    <tr>\n",
       "      <th>1147</th>\n",
       "      <td>722974582966214656</td>\n",
       "      <td>2016-04-21 02:25:47 +0000</td>\n",
       "      <td>&lt;a href=\"http://twitter.com/download/iphone\" r...</td>\n",
       "      <td>https://twitter.com/dog_rates/status/722974582...</td>\n",
       "      <td>4</td>\n",
       "      <td>None</td>\n",
       "      <td>Happy 4/20 from the squad! 13/10 for all https...</td>\n",
       "      <td>1639</td>\n",
       "      <td>4220</td>\n",
       "      <td></td>\n",
       "      <td>13.0</td>\n",
       "    </tr>\n",
       "    <tr>\n",
       "      <th>1184</th>\n",
       "      <td>716439118184652801</td>\n",
       "      <td>2016-04-03 01:36:11 +0000</td>\n",
       "      <td>&lt;a href=\"http://twitter.com/download/iphone\" r...</td>\n",
       "      <td>https://twitter.com/dog_rates/status/716439118...</td>\n",
       "      <td>50</td>\n",
       "      <td>Bluebert</td>\n",
       "      <td>This is Bluebert. He just saw that both #Final...</td>\n",
       "      <td>219</td>\n",
       "      <td>2438</td>\n",
       "      <td></td>\n",
       "      <td>11.0</td>\n",
       "    </tr>\n",
       "    <tr>\n",
       "      <th>1644</th>\n",
       "      <td>682962037429899265</td>\n",
       "      <td>2016-01-01 16:30:13 +0000</td>\n",
       "      <td>&lt;a href=\"http://twitter.com/download/iphone\" r...</td>\n",
       "      <td>https://twitter.com/dog_rates/status/682962037...</td>\n",
       "      <td>7</td>\n",
       "      <td>Darrel</td>\n",
       "      <td>This is Darrel. He just robbed a 7/11 and is i...</td>\n",
       "      <td>17564</td>\n",
       "      <td>38218</td>\n",
       "      <td></td>\n",
       "      <td>10.0</td>\n",
       "    </tr>\n",
       "    <tr>\n",
       "      <th>2316</th>\n",
       "      <td>666287406224695296</td>\n",
       "      <td>2015-11-16 16:11:11 +0000</td>\n",
       "      <td>&lt;a href=\"http://twitter.com/download/iphone\" r...</td>\n",
       "      <td>https://twitter.com/dog_rates/status/666287406...</td>\n",
       "      <td>1</td>\n",
       "      <td>an</td>\n",
       "      <td>This is an Albanian 3 1/2 legged  Episcopalian...</td>\n",
       "      <td>63</td>\n",
       "      <td>141</td>\n",
       "      <td></td>\n",
       "      <td>9.0</td>\n",
       "    </tr>\n",
       "  </tbody>\n",
       "</table>\n",
       "</div>"
      ],
      "text/plain": [
       "                tweet_id                  timestamp  \\\n",
       "1050  740373189193256964  2016-06-08 02:41:38 +0000   \n",
       "1147  722974582966214656  2016-04-21 02:25:47 +0000   \n",
       "1184  716439118184652801  2016-04-03 01:36:11 +0000   \n",
       "1644  682962037429899265  2016-01-01 16:30:13 +0000   \n",
       "2316  666287406224695296  2015-11-16 16:11:11 +0000   \n",
       "\n",
       "                                                 source  \\\n",
       "1050  <a href=\"http://twitter.com/download/iphone\" r...   \n",
       "1147  <a href=\"http://twitter.com/download/iphone\" r...   \n",
       "1184  <a href=\"http://twitter.com/download/iphone\" r...   \n",
       "1644  <a href=\"http://twitter.com/download/iphone\" r...   \n",
       "2316  <a href=\"http://twitter.com/download/iphone\" r...   \n",
       "\n",
       "                                          expanded_urls  rating_numerator  \\\n",
       "1050  https://twitter.com/dog_rates/status/740373189...                 9   \n",
       "1147  https://twitter.com/dog_rates/status/722974582...                 4   \n",
       "1184  https://twitter.com/dog_rates/status/716439118...                50   \n",
       "1644  https://twitter.com/dog_rates/status/682962037...                 7   \n",
       "2316  https://twitter.com/dog_rates/status/666287406...                 1   \n",
       "\n",
       "          name                                               text  \\\n",
       "1050      None  After so many requests, this is Bretagne. She ...   \n",
       "1147      None  Happy 4/20 from the squad! 13/10 for all https...   \n",
       "1184  Bluebert  This is Bluebert. He just saw that both #Final...   \n",
       "1644    Darrel  This is Darrel. He just robbed a 7/11 and is i...   \n",
       "2316        an  This is an Albanian 3 1/2 legged  Episcopalian...   \n",
       "\n",
       "     retweet_count favorite_count stage  rating  \n",
       "1050         13976          36027          14.0  \n",
       "1147          1639           4220          13.0  \n",
       "1184           219           2438          11.0  \n",
       "1644         17564          38218          10.0  \n",
       "2316            63            141           9.0  "
      ]
     },
     "execution_count": 743,
     "metadata": {},
     "output_type": "execute_result"
    }
   ],
   "source": [
    "# New rating column is compared to the old rating column for exploration of differences. \n",
    "df_clean2.query('rating != rating_numerator')"
   ]
  },
  {
   "cell_type": "markdown",
   "metadata": {},
   "source": [
    "#### Code"
   ]
  },
  {
   "cell_type": "code",
   "execution_count": 744,
   "metadata": {},
   "outputs": [],
   "source": [
    "df_clean2.drop('rating_numerator', axis =1, inplace =True)"
   ]
  },
  {
   "cell_type": "code",
   "execution_count": 745,
   "metadata": {},
   "outputs": [],
   "source": [
    "df_clean2 = df_clean2.query('rating <20')"
   ]
  },
  {
   "cell_type": "markdown",
   "metadata": {},
   "source": [
    "#### Test"
   ]
  },
  {
   "cell_type": "code",
   "execution_count": 746,
   "metadata": {},
   "outputs": [
    {
     "data": {
      "text/plain": [
       "(2090, 14)"
      ]
     },
     "execution_count": 746,
     "metadata": {},
     "output_type": "execute_result"
    }
   ],
   "source": [
    "df_clean2.rating.value_counts()\n",
    "df_clean.shape"
   ]
  },
  {
   "cell_type": "markdown",
   "metadata": {},
   "source": [
    "### Breeds should be one column\n",
    "#### Define:\n",
    " - The image prediction data set is cleaned so that there is one value per tweet, then added to the main table.\n",
    " - new data frames are created that will designate the most likely dog breed for each tweet. Predictions where no result was a dog breed are removed.\n",
    " - The new dataframes are concatenated into one\n",
    " - All columns except the new breed column and the twitter ID are removed. \n",
    " - The tweet_id data types are changed to strings so the tables can be merged\n",
    " - The dataframes are merged so that there is now a breed column in the main dataframe. Tweets with no reasonable prediction will now have null values.\n"
   ]
  },
  {
   "cell_type": "markdown",
   "metadata": {},
   "source": [
    "#### Code"
   ]
  },
  {
   "cell_type": "code",
   "execution_count": 747,
   "metadata": {},
   "outputs": [
    {
     "name": "stderr",
     "output_type": "stream",
     "text": [
      "C:\\Users\\Summer\\Anaconda3\\lib\\site-packages\\ipykernel_launcher.py:6: SettingWithCopyWarning: \n",
      "A value is trying to be set on a copy of a slice from a DataFrame.\n",
      "Try using .loc[row_indexer,col_indexer] = value instead\n",
      "\n",
      "See the caveats in the documentation: http://pandas.pydata.org/pandas-docs/stable/indexing.html#indexing-view-versus-copy\n",
      "  \n",
      "C:\\Users\\Summer\\Anaconda3\\lib\\site-packages\\ipykernel_launcher.py:7: SettingWithCopyWarning: \n",
      "A value is trying to be set on a copy of a slice from a DataFrame.\n",
      "Try using .loc[row_indexer,col_indexer] = value instead\n",
      "\n",
      "See the caveats in the documentation: http://pandas.pydata.org/pandas-docs/stable/indexing.html#indexing-view-versus-copy\n",
      "  import sys\n",
      "C:\\Users\\Summer\\Anaconda3\\lib\\site-packages\\ipykernel_launcher.py:8: SettingWithCopyWarning: \n",
      "A value is trying to be set on a copy of a slice from a DataFrame.\n",
      "Try using .loc[row_indexer,col_indexer] = value instead\n",
      "\n",
      "See the caveats in the documentation: http://pandas.pydata.org/pandas-docs/stable/indexing.html#indexing-view-versus-copy\n",
      "  \n"
     ]
    }
   ],
   "source": [
    " \n",
    "df_1 = df_image2.query('p1_dog == True')\n",
    "df_2 = df_image2.query('p1_dog != True & p2_dog == True')\n",
    "df_3 = df_image2.query('p1_dog != True & p2_dog != True & p3_dog == True')\n",
    "\n",
    "df_1['breed'] = df_1['p1']\n",
    "df_2['breed'] = df_2['p2']\n",
    "df_3['breed'] = df_3['p3']"
   ]
  },
  {
   "cell_type": "code",
   "execution_count": 748,
   "metadata": {},
   "outputs": [
    {
     "data": {
      "text/plain": [
       "2075"
      ]
     },
     "execution_count": 748,
     "metadata": {},
     "output_type": "execute_result"
    }
   ],
   "source": [
    "len(df_1) + len(df_2) + len(df_3)\n",
    "len(df_image)"
   ]
  },
  {
   "cell_type": "code",
   "execution_count": 749,
   "metadata": {},
   "outputs": [],
   "source": [
    "image_clean = pd.concat([df_1, df_2, df_3], axis=0, join='outer', join_axes=None, ignore_index=True,\n",
    "          keys=None, levels=None, names=None, verify_integrity=False,\n",
    "          copy=True)\n",
    "image_clean = image_clean[['tweet_id','breed']]"
   ]
  },
  {
   "cell_type": "code",
   "execution_count": 750,
   "metadata": {},
   "outputs": [],
   "source": [
    "image_clean = image_clean.astype(str, copy=True)\n",
    "df_clean2 = df_clean2.merge(image_clean, how = 'left', on = 'tweet_id')"
   ]
  },
  {
   "cell_type": "markdown",
   "metadata": {},
   "source": [
    "#### Test"
   ]
  },
  {
   "cell_type": "code",
   "execution_count": 751,
   "metadata": {},
   "outputs": [
    {
     "name": "stdout",
     "output_type": "stream",
     "text": [
      "<class 'pandas.core.frame.DataFrame'>\n",
      "Int64Index: 2051 entries, 0 to 2050\n",
      "Data columns (total 11 columns):\n",
      "tweet_id          2051 non-null object\n",
      "timestamp         2051 non-null object\n",
      "source            2051 non-null object\n",
      "expanded_urls     2051 non-null object\n",
      "name              2051 non-null object\n",
      "text              2051 non-null object\n",
      "retweet_count     2051 non-null object\n",
      "favorite_count    2051 non-null object\n",
      "stage             2051 non-null object\n",
      "rating            2051 non-null float64\n",
      "breed             1627 non-null object\n",
      "dtypes: float64(1), object(10)\n",
      "memory usage: 192.3+ KB\n"
     ]
    },
    {
     "data": {
      "text/plain": [
       "False"
      ]
     },
     "execution_count": 751,
     "metadata": {},
     "output_type": "execute_result"
    }
   ],
   "source": [
    "df_clean2.info()\n",
    "df_clean2.tweet_id.duplicated().any()"
   ]
  },
  {
   "cell_type": "markdown",
   "metadata": {},
   "source": [
    "### Missing names and name corrections\n",
    " - Some of the names were recovered from the text by searching with an additional regular expression. Then erroneous names were corrected one at a time. Then common name errors such as \"a\" were replaced with \"None\".\n",
    " - Visual analysis showed that 23 missing names are preceded with \"named\". Additional names are extracted from the text into a new column\n",
    " - The old name values are added to the new names columns\n",
    " - Many of the erroneous names have been removed by the other filtering processes above. The ones remaining are \"quite\" and \"a\". The dog with the name \"a\" has an instgram name of \"Puffie the Chow\". \n",
    "\n"
   ]
  },
  {
   "cell_type": "markdown",
   "metadata": {},
   "source": [
    "#### Code"
   ]
  },
  {
   "cell_type": "code",
   "execution_count": 752,
   "metadata": {},
   "outputs": [],
   "source": [
    "df_clean2['names'] = df_clean2['text'].str.extract(r'named (\\w+)')"
   ]
  },
  {
   "cell_type": "code",
   "execution_count": 753,
   "metadata": {},
   "outputs": [],
   "source": [
    "df_clean2['names'].fillna(df_clean2['name'], inplace =True)"
   ]
  },
  {
   "cell_type": "code",
   "execution_count": 754,
   "metadata": {},
   "outputs": [],
   "source": [
    "df_clean2.loc[df_clean2['tweet_id'] == '881536004380872706', 'names'] = \"puffie_the_chow\"\n",
    "df_clean2.loc[df_clean2['tweet_id'] == '765395769549590528', 'names'] = \"Zoey\"\n",
    "df_clean2.loc[df_clean2['tweet_id'] == '828650029636317184', 'names'] = \"Grace\"\n",
    "df_clean2.loc[df_clean2['name'] == 'a', 'names'] = \"None\"\n",
    "df_clean2.loc[df_clean2['name'] == 'an', 'names'] = \"None\"\n",
    "df_clean2.loc[df_clean2['name'] == 'quite', 'names'] = \"None\"\n",
    "df_clean2.loc[df_clean2['name'] == 'such', 'names'] = \"None\"\n",
    "df_clean2.loc[df_clean2['name'] == 'just', 'names'] = \"None\"\n",
    "df_clean2.loc[df_clean2['name'] == 'unacceptable', 'names'] = \"None\"\n",
    "df_clean2.loc[df_clean2['name'] == 'the', 'names'] = \"None\""
   ]
  },
  {
   "cell_type": "code",
   "execution_count": 755,
   "metadata": {},
   "outputs": [],
   "source": [
    "df_clean2.drop('name', axis = 1, inplace = True)"
   ]
  },
  {
   "cell_type": "markdown",
   "metadata": {},
   "source": [
    "#### Test"
   ]
  },
  {
   "cell_type": "code",
   "execution_count": 756,
   "metadata": {},
   "outputs": [
    {
     "data": {
      "text/plain": [
       "None        653\n",
       "Lucy         11\n",
       "Cooper       10\n",
       "Oliver       10\n",
       "Charlie      10\n",
       "Tucker        9\n",
       "Penny         9\n",
       "Lola          8\n",
       "Sadie         8\n",
       "Winston       8\n",
       "Toby          7\n",
       "Daisy         7\n",
       "Jax           6\n",
       "Koda          6\n",
       "Bella         6\n",
       "Bo            6\n",
       "Stanley       6\n",
       "Oscar         6\n",
       "Bailey        6\n",
       "Milo          5\n",
       "Leo           5\n",
       "Chester       5\n",
       "Dave          5\n",
       "Scout         5\n",
       "Bentley       5\n",
       "Louis         5\n",
       "Buddy         5\n",
       "Rusty         5\n",
       "Derek         4\n",
       "Jeffrey       4\n",
       "           ... \n",
       "Derby         1\n",
       "Tedrick       1\n",
       "Ralph         1\n",
       "Eevee         1\n",
       "Hero          1\n",
       "Spencer       1\n",
       "light         1\n",
       "Suki          1\n",
       "Timison       1\n",
       "Rueben        1\n",
       "Lipton        1\n",
       "Dietrich      1\n",
       "Clarkus       1\n",
       "Ginger        1\n",
       "Brockly       1\n",
       "Tilly         1\n",
       "Kollin        1\n",
       "Stephan       1\n",
       "Obi           1\n",
       "Jeffrie       1\n",
       "Tino          1\n",
       "Randall       1\n",
       "Gin           1\n",
       "Herb          1\n",
       "Ike           1\n",
       "Chompsky      1\n",
       "Champ         1\n",
       "Mac           1\n",
       "Jordy         1\n",
       "Link          1\n",
       "Name: names, Length: 936, dtype: int64"
      ]
     },
     "execution_count": 756,
     "metadata": {},
     "output_type": "execute_result"
    }
   ],
   "source": [
    "\n",
    "df_clean2.names.value_counts()"
   ]
  },
  {
   "cell_type": "markdown",
   "metadata": {},
   "source": [
    "### Miscelaneous cleaning \n",
    " - 'source' value simplification, datatype corrections, addition of days of the week column\n",
    " - Source columns are simplified\n",
    " - The remaining incorrect datatypes are changed to allow for analysis\n",
    " - Another column is produced with the day of the week for purposes of analysis"
   ]
  },
  {
   "cell_type": "markdown",
   "metadata": {},
   "source": [
    "#### Code"
   ]
  },
  {
   "cell_type": "code",
   "execution_count": 757,
   "metadata": {},
   "outputs": [],
   "source": [
    "df_clean2.loc[df_clean2['source'] == '<a href=\"http://twitter.com/download/iphone\" rel=\"nofollow\">Twitter for iPhone</a>', 'source'] = 'iPhone'\n",
    "df_clean2.loc[df_clean2['source'] == '<a href=\"http://twitter.com\" rel=\"nofollow\">Twitter Web Client</a>', 'source'] = 'twitter_web_client'\n",
    "df_clean2.loc[df_clean2['source'] == '<a href=\"http://vine.co\" rel=\"nofollow\">Vine - Make a Scene</a>', 'source'] = 'vine_make_a_scene'\n",
    "df_clean2.loc[df_clean2['source'] == '<a href=\"https://about.twitter.com/products/tweetdeck\" rel=\"nofollow\">TweetDeck</a>', 'source'] = 'tweet_deck'"
   ]
  },
  {
   "cell_type": "code",
   "execution_count": 758,
   "metadata": {},
   "outputs": [],
   "source": [
    "df_clean2.retweet_count = df_clean2.retweet_count.astype(int)\n",
    "df_clean2.favorite_count = df_clean2.favorite_count.astype(int)\n",
    "df_clean2.stage = df_clean2.stage.astype('category')\n",
    "df_clean2.timestamp = pd.to_datetime(df_clean2['timestamp'])\n",
    "df_clean2.source = df_clean2.source.astype('category')          "
   ]
  },
  {
   "cell_type": "code",
   "execution_count": 759,
   "metadata": {},
   "outputs": [
    {
     "data": {
      "text/plain": [
       "0    342\n",
       "1    307\n",
       "2    304\n",
       "3    287\n",
       "4    284\n",
       "5    267\n",
       "6    260\n",
       "Name: day_of_week, dtype: int64"
      ]
     },
     "execution_count": 759,
     "metadata": {},
     "output_type": "execute_result"
    }
   ],
   "source": [
    "import datetime as dt\n",
    "df_clean2['day_of_week'] = df_clean2['timestamp'].dt.dayofweek\n",
    "df_clean2.day_of_week = df_clean2.day_of_week.astype('int')\n",
    "df_clean2.day_of_week.value_counts()"
   ]
  },
  {
   "cell_type": "markdown",
   "metadata": {},
   "source": [
    "#### Test"
   ]
  },
  {
   "cell_type": "code",
   "execution_count": 760,
   "metadata": {},
   "outputs": [
    {
     "data": {
      "text/plain": [
       "(2051, 12)"
      ]
     },
     "execution_count": 760,
     "metadata": {},
     "output_type": "execute_result"
    }
   ],
   "source": [
    "df_clean2.shape"
   ]
  },
  {
   "cell_type": "code",
   "execution_count": 761,
   "metadata": {},
   "outputs": [],
   "source": [
    "#csv file created\n",
    "df_clean2.to_csv('twitter_archive_master.csv')"
   ]
  },
  {
   "cell_type": "markdown",
   "metadata": {},
   "source": [
    "# Analyse"
   ]
  },
  {
   "cell_type": "code",
   "execution_count": 694,
   "metadata": {},
   "outputs": [
    {
     "data": {
      "text/html": [
       "<div>\n",
       "<style scoped>\n",
       "    .dataframe tbody tr th:only-of-type {\n",
       "        vertical-align: middle;\n",
       "    }\n",
       "\n",
       "    .dataframe tbody tr th {\n",
       "        vertical-align: top;\n",
       "    }\n",
       "\n",
       "    .dataframe thead th {\n",
       "        text-align: right;\n",
       "    }\n",
       "</style>\n",
       "<table border=\"1\" class=\"dataframe\">\n",
       "  <thead>\n",
       "    <tr style=\"text-align: right;\">\n",
       "      <th></th>\n",
       "      <th>retweet_count</th>\n",
       "      <th>favorite_count</th>\n",
       "      <th>rating</th>\n",
       "      <th>day_of_week</th>\n",
       "    </tr>\n",
       "  </thead>\n",
       "  <tbody>\n",
       "    <tr>\n",
       "      <th>count</th>\n",
       "      <td>2051.000000</td>\n",
       "      <td>2051.000000</td>\n",
       "      <td>2051.000000</td>\n",
       "      <td>2051.000000</td>\n",
       "    </tr>\n",
       "    <tr>\n",
       "      <th>mean</th>\n",
       "      <td>2703.535349</td>\n",
       "      <td>8767.448562</td>\n",
       "      <td>10.621160</td>\n",
       "      <td>2.831302</td>\n",
       "    </tr>\n",
       "    <tr>\n",
       "      <th>std</th>\n",
       "      <td>4718.260584</td>\n",
       "      <td>12667.015207</td>\n",
       "      <td>2.150739</td>\n",
       "      <td>2.005314</td>\n",
       "    </tr>\n",
       "    <tr>\n",
       "      <th>min</th>\n",
       "      <td>11.000000</td>\n",
       "      <td>76.000000</td>\n",
       "      <td>0.000000</td>\n",
       "      <td>0.000000</td>\n",
       "    </tr>\n",
       "    <tr>\n",
       "      <th>25%</th>\n",
       "      <td>596.500000</td>\n",
       "      <td>1941.000000</td>\n",
       "      <td>10.000000</td>\n",
       "      <td>1.000000</td>\n",
       "    </tr>\n",
       "    <tr>\n",
       "      <th>50%</th>\n",
       "      <td>1307.000000</td>\n",
       "      <td>3994.000000</td>\n",
       "      <td>11.000000</td>\n",
       "      <td>3.000000</td>\n",
       "    </tr>\n",
       "    <tr>\n",
       "      <th>75%</th>\n",
       "      <td>3073.500000</td>\n",
       "      <td>10916.500000</td>\n",
       "      <td>12.000000</td>\n",
       "      <td>5.000000</td>\n",
       "    </tr>\n",
       "    <tr>\n",
       "      <th>max</th>\n",
       "      <td>82462.000000</td>\n",
       "      <td>162144.000000</td>\n",
       "      <td>14.000000</td>\n",
       "      <td>6.000000</td>\n",
       "    </tr>\n",
       "  </tbody>\n",
       "</table>\n",
       "</div>"
      ],
      "text/plain": [
       "       retweet_count  favorite_count       rating  day_of_week\n",
       "count    2051.000000     2051.000000  2051.000000  2051.000000\n",
       "mean     2703.535349     8767.448562    10.621160     2.831302\n",
       "std      4718.260584    12667.015207     2.150739     2.005314\n",
       "min        11.000000       76.000000     0.000000     0.000000\n",
       "25%       596.500000     1941.000000    10.000000     1.000000\n",
       "50%      1307.000000     3994.000000    11.000000     3.000000\n",
       "75%      3073.500000    10916.500000    12.000000     5.000000\n",
       "max     82462.000000   162144.000000    14.000000     6.000000"
      ]
     },
     "execution_count": 694,
     "metadata": {},
     "output_type": "execute_result"
    }
   ],
   "source": [
    "import seaborn\n",
    "import statsmodels.api as sm\n",
    "import matplotlib.pyplot as plt\n",
    "df_clean2.describe()"
   ]
  },
  {
   "cell_type": "code",
   "execution_count": 695,
   "metadata": {},
   "outputs": [
    {
     "data": {
      "text/html": [
       "<table class=\"simpletable\">\n",
       "<caption>OLS Regression Results</caption>\n",
       "<tr>\n",
       "  <th>Dep. Variable:</th>         <td>rating</td>      <th>  R-squared:         </th> <td>   0.089</td>\n",
       "</tr>\n",
       "<tr>\n",
       "  <th>Model:</th>                   <td>OLS</td>       <th>  Adj. R-squared:    </th> <td>   0.088</td>\n",
       "</tr>\n",
       "<tr>\n",
       "  <th>Method:</th>             <td>Least Squares</td>  <th>  F-statistic:       </th> <td>   199.9</td>\n",
       "</tr>\n",
       "<tr>\n",
       "  <th>Date:</th>             <td>Mon, 13 May 2019</td> <th>  Prob (F-statistic):</th> <td>2.29e-43</td>\n",
       "</tr>\n",
       "<tr>\n",
       "  <th>Time:</th>                 <td>14:17:17</td>     <th>  Log-Likelihood:    </th> <td> -4385.0</td>\n",
       "</tr>\n",
       "<tr>\n",
       "  <th>No. Observations:</th>      <td>  2051</td>      <th>  AIC:               </th> <td>   8774.</td>\n",
       "</tr>\n",
       "<tr>\n",
       "  <th>Df Residuals:</th>          <td>  2049</td>      <th>  BIC:               </th> <td>   8785.</td>\n",
       "</tr>\n",
       "<tr>\n",
       "  <th>Df Model:</th>              <td>     1</td>      <th>                     </th>     <td> </td>   \n",
       "</tr>\n",
       "<tr>\n",
       "  <th>Covariance Type:</th>      <td>nonrobust</td>    <th>                     </th>     <td> </td>   \n",
       "</tr>\n",
       "</table>\n",
       "<table class=\"simpletable\">\n",
       "<tr>\n",
       "        <td></td>           <th>coef</th>     <th>std err</th>      <th>t</th>      <th>P>|t|</th>  <th>[0.025</th>    <th>0.975]</th>  \n",
       "</tr>\n",
       "<tr>\n",
       "  <th>intercept</th>     <td>   10.2538</td> <td>    0.052</td> <td>  196.203</td> <td> 0.000</td> <td>   10.151</td> <td>   10.356</td>\n",
       "</tr>\n",
       "<tr>\n",
       "  <th>retweet_count</th> <td>    0.0001</td> <td> 9.61e-06</td> <td>   14.137</td> <td> 0.000</td> <td>    0.000</td> <td>    0.000</td>\n",
       "</tr>\n",
       "</table>\n",
       "<table class=\"simpletable\">\n",
       "<tr>\n",
       "  <th>Omnibus:</th>       <td>666.320</td> <th>  Durbin-Watson:     </th> <td>   1.649</td>\n",
       "</tr>\n",
       "<tr>\n",
       "  <th>Prob(Omnibus):</th> <td> 0.000</td>  <th>  Jarque-Bera (JB):  </th> <td>2086.922</td>\n",
       "</tr>\n",
       "<tr>\n",
       "  <th>Skew:</th>          <td>-1.648</td>  <th>  Prob(JB):          </th> <td>    0.00</td>\n",
       "</tr>\n",
       "<tr>\n",
       "  <th>Kurtosis:</th>      <td> 6.682</td>  <th>  Cond. No.          </th> <td>6.27e+03</td>\n",
       "</tr>\n",
       "</table><br/><br/>Warnings:<br/>[1] Standard Errors assume that the covariance matrix of the errors is correctly specified.<br/>[2] The condition number is large, 6.27e+03. This might indicate that there are<br/>strong multicollinearity or other numerical problems."
      ],
      "text/plain": [
       "<class 'statsmodels.iolib.summary.Summary'>\n",
       "\"\"\"\n",
       "                            OLS Regression Results                            \n",
       "==============================================================================\n",
       "Dep. Variable:                 rating   R-squared:                       0.089\n",
       "Model:                            OLS   Adj. R-squared:                  0.088\n",
       "Method:                 Least Squares   F-statistic:                     199.9\n",
       "Date:                Mon, 13 May 2019   Prob (F-statistic):           2.29e-43\n",
       "Time:                        14:17:17   Log-Likelihood:                -4385.0\n",
       "No. Observations:                2051   AIC:                             8774.\n",
       "Df Residuals:                    2049   BIC:                             8785.\n",
       "Df Model:                           1                                         \n",
       "Covariance Type:            nonrobust                                         \n",
       "=================================================================================\n",
       "                    coef    std err          t      P>|t|      [0.025      0.975]\n",
       "---------------------------------------------------------------------------------\n",
       "intercept        10.2538      0.052    196.203      0.000      10.151      10.356\n",
       "retweet_count     0.0001   9.61e-06     14.137      0.000       0.000       0.000\n",
       "==============================================================================\n",
       "Omnibus:                      666.320   Durbin-Watson:                   1.649\n",
       "Prob(Omnibus):                  0.000   Jarque-Bera (JB):             2086.922\n",
       "Skew:                          -1.648   Prob(JB):                         0.00\n",
       "Kurtosis:                       6.682   Cond. No.                     6.27e+03\n",
       "==============================================================================\n",
       "\n",
       "Warnings:\n",
       "[1] Standard Errors assume that the covariance matrix of the errors is correctly specified.\n",
       "[2] The condition number is large, 6.27e+03. This might indicate that there are\n",
       "strong multicollinearity or other numerical problems.\n",
       "\"\"\""
      ]
     },
     "execution_count": 695,
     "metadata": {},
     "output_type": "execute_result"
    }
   ],
   "source": [
    "df_clean3 = df_clean2.copy()\n",
    "df_clean3['intercept'] = 1\n",
    "\n",
    "lm = sm.OLS(df_clean3['rating'], df_clean3[['intercept', 'retweet_count']])\n",
    "res = lm.fit()\n",
    "res.summary()"
   ]
  },
  {
   "cell_type": "code",
   "execution_count": 696,
   "metadata": {},
   "outputs": [
    {
     "data": {
      "text/plain": [
       "Text(0.5, 1.0, 'Retweet and Favorite Count')"
      ]
     },
     "execution_count": 696,
     "metadata": {},
     "output_type": "execute_result"
    },
    {
     "data": {
      "image/png": "[encoded data removed]",
      "text/plain": [
       "<Figure size 432x288 with 1 Axes>"
      ]
     },
     "metadata": {},
     "output_type": "display_data"
    }
   ],
   "source": [
    "plt.style.use('seaborn-darkgrid')\n",
    "df_clean2.plot(x = 'retweet_count', y = 'favorite_count', kind = 'scatter')\n",
    "plt.title('Retweet and Favorite Count')"
   ]
  },
  {
   "cell_type": "code",
   "execution_count": 697,
   "metadata": {},
   "outputs": [
    {
     "data": {
      "text/html": [
       "<table class=\"simpletable\">\n",
       "<caption>OLS Regression Results</caption>\n",
       "<tr>\n",
       "  <th>Dep. Variable:</th>     <td>favorite_count</td>  <th>  R-squared:         </th> <td>   0.859</td> \n",
       "</tr>\n",
       "<tr>\n",
       "  <th>Model:</th>                   <td>OLS</td>       <th>  Adj. R-squared:    </th> <td>   0.859</td> \n",
       "</tr>\n",
       "<tr>\n",
       "  <th>Method:</th>             <td>Least Squares</td>  <th>  F-statistic:       </th> <td>1.252e+04</td>\n",
       "</tr>\n",
       "<tr>\n",
       "  <th>Date:</th>             <td>Mon, 13 May 2019</td> <th>  Prob (F-statistic):</th>  <td>  0.00</td>  \n",
       "</tr>\n",
       "<tr>\n",
       "  <th>Time:</th>                 <td>14:17:18</td>     <th>  Log-Likelihood:    </th> <td> -20274.</td> \n",
       "</tr>\n",
       "<tr>\n",
       "  <th>No. Observations:</th>      <td>  2051</td>      <th>  AIC:               </th> <td>4.055e+04</td>\n",
       "</tr>\n",
       "<tr>\n",
       "  <th>Df Residuals:</th>          <td>  2049</td>      <th>  BIC:               </th> <td>4.056e+04</td>\n",
       "</tr>\n",
       "<tr>\n",
       "  <th>Df Model:</th>              <td>     1</td>      <th>                     </th>     <td> </td>    \n",
       "</tr>\n",
       "<tr>\n",
       "  <th>Covariance Type:</th>      <td>nonrobust</td>    <th>                     </th>     <td> </td>    \n",
       "</tr>\n",
       "</table>\n",
       "<table class=\"simpletable\">\n",
       "<tr>\n",
       "        <td></td>           <th>coef</th>     <th>std err</th>      <th>t</th>      <th>P>|t|</th>  <th>[0.025</th>    <th>0.975]</th>  \n",
       "</tr>\n",
       "<tr>\n",
       "  <th>intercept</th>     <td> 2039.1829</td> <td>  120.944</td> <td>   16.861</td> <td> 0.000</td> <td> 1801.997</td> <td> 2276.369</td>\n",
       "</tr>\n",
       "<tr>\n",
       "  <th>retweet_count</th> <td>    2.4887</td> <td>    0.022</td> <td>  111.877</td> <td> 0.000</td> <td>    2.445</td> <td>    2.532</td>\n",
       "</tr>\n",
       "</table>\n",
       "<table class=\"simpletable\">\n",
       "<tr>\n",
       "  <th>Omnibus:</th>       <td>557.737</td> <th>  Durbin-Watson:     </th> <td>   0.764</td> \n",
       "</tr>\n",
       "<tr>\n",
       "  <th>Prob(Omnibus):</th> <td> 0.000</td>  <th>  Jarque-Bera (JB):  </th> <td>12496.834</td>\n",
       "</tr>\n",
       "<tr>\n",
       "  <th>Skew:</th>          <td> 0.736</td>  <th>  Prob(JB):          </th> <td>    0.00</td> \n",
       "</tr>\n",
       "<tr>\n",
       "  <th>Kurtosis:</th>      <td>15.003</td>  <th>  Cond. No.          </th> <td>6.27e+03</td> \n",
       "</tr>\n",
       "</table><br/><br/>Warnings:<br/>[1] Standard Errors assume that the covariance matrix of the errors is correctly specified.<br/>[2] The condition number is large, 6.27e+03. This might indicate that there are<br/>strong multicollinearity or other numerical problems."
      ],
      "text/plain": [
       "<class 'statsmodels.iolib.summary.Summary'>\n",
       "\"\"\"\n",
       "                            OLS Regression Results                            \n",
       "==============================================================================\n",
       "Dep. Variable:         favorite_count   R-squared:                       0.859\n",
       "Model:                            OLS   Adj. R-squared:                  0.859\n",
       "Method:                 Least Squares   F-statistic:                 1.252e+04\n",
       "Date:                Mon, 13 May 2019   Prob (F-statistic):               0.00\n",
       "Time:                        14:17:18   Log-Likelihood:                -20274.\n",
       "No. Observations:                2051   AIC:                         4.055e+04\n",
       "Df Residuals:                    2049   BIC:                         4.056e+04\n",
       "Df Model:                           1                                         \n",
       "Covariance Type:            nonrobust                                         \n",
       "=================================================================================\n",
       "                    coef    std err          t      P>|t|      [0.025      0.975]\n",
       "---------------------------------------------------------------------------------\n",
       "intercept      2039.1829    120.944     16.861      0.000    1801.997    2276.369\n",
       "retweet_count     2.4887      0.022    111.877      0.000       2.445       2.532\n",
       "==============================================================================\n",
       "Omnibus:                      557.737   Durbin-Watson:                   0.764\n",
       "Prob(Omnibus):                  0.000   Jarque-Bera (JB):            12496.834\n",
       "Skew:                           0.736   Prob(JB):                         0.00\n",
       "Kurtosis:                      15.003   Cond. No.                     6.27e+03\n",
       "==============================================================================\n",
       "\n",
       "Warnings:\n",
       "[1] Standard Errors assume that the covariance matrix of the errors is correctly specified.\n",
       "[2] The condition number is large, 6.27e+03. This might indicate that there are\n",
       "strong multicollinearity or other numerical problems.\n",
       "\"\"\""
      ]
     },
     "execution_count": 697,
     "metadata": {},
     "output_type": "execute_result"
    }
   ],
   "source": [
    "lm = sm.OLS(df_clean3['favorite_count'], df_clean3[['intercept', 'retweet_count']])\n",
    "res = lm.fit()\n",
    "res.summary()"
   ]
  },
  {
   "cell_type": "code",
   "execution_count": 698,
   "metadata": {},
   "outputs": [
    {
     "data": {
      "text/plain": [
       "Text(0.5, 1.0, 'Rating and Favorite Count')"
      ]
     },
     "execution_count": 698,
     "metadata": {},
     "output_type": "execute_result"
    },
    {
     "data": {
      "image/png": "[encoded data removed]",
      "text/plain": [
       "<Figure size 432x288 with 1 Axes>"
      ]
     },
     "metadata": {},
     "output_type": "display_data"
    }
   ],
   "source": [
    "df_clean2.plot(x = 'rating', y = 'favorite_count', kind = 'scatter')\n",
    "plt.title('Rating and Favorite Count')"
   ]
  },
  {
   "cell_type": "code",
   "execution_count": 699,
   "metadata": {},
   "outputs": [
    {
     "data": {
      "text/plain": [
       "Text(0.5, 1.0, 'Ratings Over Time')"
      ]
     },
     "execution_count": 699,
     "metadata": {},
     "output_type": "execute_result"
    },
    {
     "data": {
      "image/png": "[encoded data removed]",
      "text/plain": [
       "<Figure size 432x288 with 1 Axes>"
      ]
     },
     "metadata": {},
     "output_type": "display_data"
    }
   ],
   "source": [
    "dftime = df_clean2\n",
    "dftime.timestamp = dftime.timestamp.values.astype('<M8[W]')\n",
    "\n",
    "dftime2 = dftime.groupby('timestamp').mean()[['rating']]\n",
    "dftime2.plot()\n",
    "plt.xlabel('Timestamp')\n",
    "plt.ylabel('Rating')\n",
    "plt.title('Ratings Over Time')"
   ]
  },
  {
   "cell_type": "code",
   "execution_count": 700,
   "metadata": {},
   "outputs": [
    {
     "data": {
      "image/png": "[encoded data removed]",
      "text/plain": [
       "<Figure size 432x288 with 1 Axes>"
      ]
     },
     "metadata": {},
     "output_type": "display_data"
    }
   ],
   "source": [
    "df5 = df_clean2.groupby('day_of_week').mean()[['retweet_count']]\n",
    "days = ['Monday', 'Tuesday', 'Wednesday', 'Thursday', 'Friday', 'Saturday', 'Sunday']\n",
    "p1 = plt.bar(df5.index, df5.retweet_count, width)\n",
    "#plt.xticks(days)\n",
    "plt.xticks(np.arange(7), ('Monday', 'Tuesday', 'Wednesday', 'Thursday', 'Friday', 'Saturday', 'Sunday'), rotation = 75)\n",
    "plt.title('Retweet Count by Day of the Week')\n",
    "plt.show()\n",
    "\n"
   ]
  },
  {
   "cell_type": "code",
   "execution_count": 701,
   "metadata": {},
   "outputs": [
    {
     "data": {
      "image/png": "[encoded data removed]",
      "text/plain": [
       "<Figure size 432x288 with 1 Axes>"
      ]
     },
     "metadata": {},
     "output_type": "display_data"
    }
   ],
   "source": [
    "df2 = df_clean2.groupby('rating').mean()[['retweet_count']]\n",
    "df2.plot(kind = 'bar')\n",
    "plt.ylabel('Mean Retweet Count')\n",
    "plt.xlabel('Rating out of 10')\n",
    "plt.title('The Average Favorite Count by Rating')\n",
    "plt.legend().set_visible(False)"
   ]
  },
  {
   "cell_type": "code",
   "execution_count": 702,
   "metadata": {},
   "outputs": [
    {
     "data": {
      "image/png": "[encoded data removed]",
      "text/plain": [
       "<Figure size 432x288 with 1 Axes>"
      ]
     },
     "metadata": {},
     "output_type": "display_data"
    },
    {
     "data": {
      "text/html": [
       "<div>\n",
       "<style scoped>\n",
       "    .dataframe tbody tr th:only-of-type {\n",
       "        vertical-align: middle;\n",
       "    }\n",
       "\n",
       "    .dataframe tbody tr th {\n",
       "        vertical-align: top;\n",
       "    }\n",
       "\n",
       "    .dataframe thead th {\n",
       "        text-align: right;\n",
       "    }\n",
       "</style>\n",
       "<table border=\"1\" class=\"dataframe\">\n",
       "  <thead>\n",
       "    <tr style=\"text-align: right;\">\n",
       "      <th></th>\n",
       "      <th>retweet_count</th>\n",
       "      <th>favorite_count</th>\n",
       "    </tr>\n",
       "    <tr>\n",
       "      <th>stage</th>\n",
       "      <th></th>\n",
       "      <th></th>\n",
       "    </tr>\n",
       "  </thead>\n",
       "  <tbody>\n",
       "    <tr>\n",
       "      <th></th>\n",
       "      <td>2549.467213</td>\n",
       "      <td>8393.221311</td>\n",
       "    </tr>\n",
       "    <tr>\n",
       "      <th>doggo</th>\n",
       "      <td>5660.040541</td>\n",
       "      <td>16742.891892</td>\n",
       "    </tr>\n",
       "    <tr>\n",
       "      <th>doggo/pupper</th>\n",
       "      <td>5100.200000</td>\n",
       "      <td>15688.600000</td>\n",
       "    </tr>\n",
       "    <tr>\n",
       "      <th>floofer</th>\n",
       "      <td>6436.500000</td>\n",
       "      <td>17646.250000</td>\n",
       "    </tr>\n",
       "    <tr>\n",
       "      <th>pupper</th>\n",
       "      <td>2296.393013</td>\n",
       "      <td>6944.235808</td>\n",
       "    </tr>\n",
       "    <tr>\n",
       "      <th>pupper/doggo</th>\n",
       "      <td>2814.500000</td>\n",
       "      <td>9527.000000</td>\n",
       "    </tr>\n",
       "    <tr>\n",
       "      <th>puppo</th>\n",
       "      <td>6197.074074</td>\n",
       "      <td>21774.037037</td>\n",
       "    </tr>\n",
       "  </tbody>\n",
       "</table>\n",
       "</div>"
      ],
      "text/plain": [
       "              retweet_count  favorite_count\n",
       "stage                                      \n",
       "                2549.467213     8393.221311\n",
       "doggo           5660.040541    16742.891892\n",
       "doggo/pupper    5100.200000    15688.600000\n",
       "floofer         6436.500000    17646.250000\n",
       "pupper          2296.393013     6944.235808\n",
       "pupper/doggo    2814.500000     9527.000000\n",
       "puppo           6197.074074    21774.037037"
      ]
     },
     "execution_count": 702,
     "metadata": {},
     "output_type": "execute_result"
    }
   ],
   "source": [
    "import numpy as np\n",
    "df4 = df_clean2.groupby('stage').mean()[['retweet_count', 'favorite_count']]\n",
    "\n",
    "\n",
    "width = 0.38       \n",
    "p1 = plt.bar(df4.index, df4.retweet_count, width)\n",
    "p2 = plt.bar(df4.index, df4.favorite_count, width, bottom= df4.retweet_count)\n",
    "\n",
    "plt.ylabel('Count')\n",
    "plt.title('Retweet and Favorite Count by Stage')\n",
    "plt.xticks(df4.index, rotation=75)\n",
    "plt.legend((p1[0], p2[0]), ('Retweet Count', 'favorite Count'))\n",
    "\n",
    "plt.show()\n",
    "\n",
    "df4.head(7)"
   ]
  },
  {
   "cell_type": "code",
   "execution_count": 703,
   "metadata": {},
   "outputs": [],
   "source": [
    "breed = df_clean2.groupby( 'breed').count().nlargest(10, 'tweet_id')\n",
    "breed.reset_index(inplace = True)\n",
    "df_breed= df_clean2[df_clean2['breed'].isin(breed['breed'])]"
   ]
  },
  {
   "cell_type": "code",
   "execution_count": 704,
   "metadata": {},
   "outputs": [
    {
     "data": {
      "image/png": "[encoded data removed]",
      "text/plain": [
       "<Figure size 432x288 with 1 Axes>"
      ]
     },
     "metadata": {},
     "output_type": "display_data"
    }
   ],
   "source": [
    "df_breed1 = df_breed.groupby('breed').mean()[['retweet_count']]\n",
    "df_breed1.plot(kind = 'bar')\n",
    "plt.xlabel('Most Common Breeds')\n",
    "plt.ylabel('Retweet Count')\n",
    "plt.title('Most Popular Breeds')\n",
    "plt.xticks( rotation=75)\n",
    "plt.legend().set_visible(False)"
   ]
  },
  {
   "cell_type": "code",
   "execution_count": 705,
   "metadata": {
    "scrolled": true
   },
   "outputs": [
    {
     "data": {
      "image/png": "[encoded data removed]",
      "text/plain": [
       "<Figure size 432x288 with 1 Axes>"
      ]
     },
     "metadata": {},
     "output_type": "display_data"
    }
   ],
   "source": [
    "df_breed2 = df_breed.set_index('breed')\n",
    "df_breed3 = df_breed.groupby('breed').count()[['tweet_id']]\n",
    "df_breed3.plot(kind = 'bar')\n",
    "plt.xticks(rotation = 75)\n",
    "plt.xlabel('Most Common Breeds')\n",
    "plt.ylabel('Total Count')\n",
    "plt.title('Most Common Breeds')\n",
    "plt.legend().set_visible(False)"
   ]
  },
  {
   "cell_type": "code",
   "execution_count": 706,
   "metadata": {},
   "outputs": [
    {
     "data": {
      "text/html": [
       "<div>\n",
       "<style scoped>\n",
       "    .dataframe tbody tr th:only-of-type {\n",
       "        vertical-align: middle;\n",
       "    }\n",
       "\n",
       "    .dataframe tbody tr th {\n",
       "        vertical-align: top;\n",
       "    }\n",
       "\n",
       "    .dataframe thead th {\n",
       "        text-align: right;\n",
       "    }\n",
       "</style>\n",
       "<table border=\"1\" class=\"dataframe\">\n",
       "  <thead>\n",
       "    <tr style=\"text-align: right;\">\n",
       "      <th></th>\n",
       "      <th>tweet_id</th>\n",
       "      <th>timestamp</th>\n",
       "      <th>source</th>\n",
       "      <th>expanded_urls</th>\n",
       "      <th>text</th>\n",
       "      <th>retweet_count</th>\n",
       "      <th>favorite_count</th>\n",
       "      <th>stage</th>\n",
       "      <th>rating</th>\n",
       "      <th>breed</th>\n",
       "      <th>names</th>\n",
       "      <th>day_of_week</th>\n",
       "    </tr>\n",
       "  </thead>\n",
       "  <tbody>\n",
       "    <tr>\n",
       "      <th>812</th>\n",
       "      <td>744234799360020481</td>\n",
       "      <td>2016-06-16</td>\n",
       "      <td>iPhone</td>\n",
       "      <td>https://twitter.com/dog_rates/status/744234799...</td>\n",
       "      <td>Here's a doggo realizing you can stand in a po...</td>\n",
       "      <td>82462</td>\n",
       "      <td>162144</td>\n",
       "      <td>doggo</td>\n",
       "      <td>13.0</td>\n",
       "      <td>Labrador_retriever</td>\n",
       "      <td>None</td>\n",
       "      <td>5</td>\n",
       "    </tr>\n",
       "  </tbody>\n",
       "</table>\n",
       "</div>"
      ],
      "text/plain": [
       "               tweet_id  timestamp  source  \\\n",
       "812  744234799360020481 2016-06-16  iPhone   \n",
       "\n",
       "                                         expanded_urls  \\\n",
       "812  https://twitter.com/dog_rates/status/744234799...   \n",
       "\n",
       "                                                  text  retweet_count  \\\n",
       "812  Here's a doggo realizing you can stand in a po...          82462   \n",
       "\n",
       "     favorite_count  stage  rating               breed names  day_of_week  \n",
       "812          162144  doggo    13.0  Labrador_retriever  None            5  "
      ]
     },
     "execution_count": 706,
     "metadata": {},
     "output_type": "execute_result"
    }
   ],
   "source": [
    "df_clean2[df_clean2.favorite_count== df_clean2.favorite_count.max()]"
   ]
  },
  {
   "cell_type": "code",
   "execution_count": 707,
   "metadata": {},
   "outputs": [
    {
     "data": {
      "text/plain": [
       "(2051, 12)"
      ]
     },
     "execution_count": 707,
     "metadata": {},
     "output_type": "execute_result"
    }
   ],
   "source": [
    "df_clean2.shape"
   ]
  },
  {
   "cell_type": "code",
   "execution_count": 708,
   "metadata": {},
   "outputs": [
    {
     "name": "stdout",
     "output_type": "stream",
     "text": [
      "<class 'pandas.core.frame.DataFrame'>\n",
      "Int64Index: 2051 entries, 0 to 2050\n",
      "Data columns (total 12 columns):\n",
      "tweet_id          2051 non-null object\n",
      "timestamp         2051 non-null datetime64[ns]\n",
      "source            2051 non-null category\n",
      "expanded_urls     2051 non-null object\n",
      "text              2051 non-null object\n",
      "retweet_count     2051 non-null int32\n",
      "favorite_count    2051 non-null int32\n",
      "stage             2051 non-null category\n",
      "rating            2051 non-null float64\n",
      "breed             1627 non-null object\n",
      "names             2051 non-null object\n",
      "day_of_week       2051 non-null int32\n",
      "dtypes: category(2), datetime64[ns](1), float64(1), int32(3), object(5)\n",
      "memory usage: 156.8+ KB\n"
     ]
    }
   ],
   "source": [
    "df_clean2.info()"
   ]
  },
  {
   "cell_type": "code",
   "execution_count": null,
   "metadata": {},
   "outputs": [],
   "source": []
  },
  {
   "cell_type": "code",
   "execution_count": null,
   "metadata": {},
   "outputs": [],
   "source": []
  },
  {
   "cell_type": "code",
   "execution_count": null,
   "metadata": {},
   "outputs": [],
   "source": []
  }
 ],
 "metadata": {
  "kernelspec": {
   "display_name": "Python 3",
   "language": "python",
   "name": "python3"
  },
  "language_info": {
   "codemirror_mode": {
    "name": "ipython",
    "version": 3
   },
   "file_extension": ".py",
   "mimetype": "text/x-python",
   "name": "python",
   "nbconvert_exporter": "python",
   "pygments_lexer": "ipython3",
   "version": "3.7.2"
  }
 },
 "nbformat": 4,
 "nbformat_minor": 2
}
